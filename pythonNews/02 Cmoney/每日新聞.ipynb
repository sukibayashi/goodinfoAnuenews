{
 "cells": [
  {
   "cell_type": "code",
   "execution_count": 1,
   "metadata": {},
   "outputs": [
    {
     "name": "stdout",
     "output_type": "stream",
     "text": [
      "      代碼   中文簡稱                      新聞內容          日期\n",
      "0   1336     台翰                台翰 拚本季營運加溫  2023/05/08\n",
      "1   1476     儒鴻              品牌拉貨 儒鴻/聚陽向好  2023/05/08\n",
      "2   1477     聚陽                四檔消費股 大和按讚  2023/05/08\n",
      "3   1477     聚陽              品牌拉貨 儒鴻/聚陽向好  2023/05/08\n",
      "4   1605     華新              華新砸55億 進軍航太鏈  2023/05/08\n",
      "5   1612     宏泰                 宏泰 專注電線電纜  2023/05/08\n",
      "6   1722     台肥               台肥賣地 賺進23億元  2023/05/08\n",
      "7   2002     中鋼                 中鋼虧損 大幅收斂  2023/05/08\n",
      "8   2313     華通              蘋果PCB鏈 營運將升溫  2023/05/08\n",
      "9   2317     鴻海              鴻海4月營收 寫同期次高  2023/05/08\n",
      "10  2353     宏碁        PC產業吹響反攻號角 景氣將邁向復甦  2023/05/08\n",
      "11  2357     華碩        PC產業吹響反攻號角 景氣將邁向復甦  2023/05/08\n",
      "12  2409     友達                面板價勁揚 雙虎樂透  2023/05/08\n",
      "13  2732     六角                六角 全年拚賺一股本  2023/05/08\n",
      "14  2887    台新金            金控配息1205億 九年低點  2023/05/08\n",
      "15  2912    統一超                四檔消費股 大和按讚  2023/05/08\n",
      "16  3260     威剛              威剛跨足新領域 動能帶勁  2023/05/08\n",
      "17  3376    新日興              三星新折疊機 傳7月亮相  2023/05/08\n",
      "18  3443     創意                創意利多 兩外資力挺  2023/05/08\n",
      "19  3481     群創                面板價勁揚 雙虎樂透  2023/05/08\n",
      "20  3545     敦泰               敦泰改選 三大勢力進駐  2023/05/08\n",
      "21  3548     兆利              三星新折疊機 傳7月亮相  2023/05/08\n",
      "22  4958  臻鼎-KY              蘋果PCB鏈 營運將升溫  2023/05/08\n",
      "23  4966  譜瑞-KY       譜瑞-KY 傳奪iPhone 15訂單  2023/05/08\n",
      "24  6446    藥華藥                藥華藥進擊亞洲 報捷  2023/05/08\n",
      "25  6510     精測  NVIDIA備戰中階電競新品 週邊IC封測略回溫  2023/05/08\n",
      "26  6515     穎崴  NVIDIA備戰中階電競新品 週邊IC封測略回溫  2023/05/08\n",
      "27  6584   南俊國際        南俊國際營運低谷已過 下半年業績喊衝  2023/05/08\n",
      "28  6770    力積電             力晶投資 晶合集成登科創板  2023/05/08\n",
      "29  8215    明基材                明基材：本季營運正向  2023/05/08\n",
      "30  8454    富邦媒                四檔消費股 大和按讚  2023/05/08\n",
      "31  8464     億豐                四檔消費股 大和按讚  2023/05/08\n"
     ]
    }
   ],
   "source": [
    "import requests\n",
    "import json\n",
    "import pandas as pd\n",
    "from pandas import json_normalize\n",
    "import sqlite3\n",
    "import numpy as np\n",
    "\n",
    "cmoneyWEB = 'https://m.moneydj.com/jsondata/djjson/FundJsonData.xdjjson?x=XDT003F'\n",
    "\n",
    "def 每日新聞():\n",
    "    global df2\n",
    "    headers = {'User-Agent': 'Mozilla/5.0 (Windows NT 10.0; Win64; x64) AppleWebKit/537.36 (KHTML, like Gecko) Chrome/105.0.0.0 Safari/537.36 Edg/105.0.1343.33'}\n",
    "    res = requests.get(cmoneyWEB, headers = headers)\n",
    "    res.encoding = 'utf-8' # requests.models.Response\n",
    "    # json相關(https://medium.com/datainpoint/scraping-json-with-python-requests-95a56e61096a)\n",
    "    res_text = res.text # str\n",
    "    today_json = json.loads(res_text) # dict\n",
    "    \n",
    "    # json_normalize()函式被非常廣泛地用於讀取巢狀的json字串並返回一個DataFrame\n",
    "    df = json_normalize(today_json['ResultSet']['Result'])\n",
    "    df2 = df.copy()\n",
    "    df2 = df2.replace('\\.[A-Z]*','',regex=True) # 用正則表達式刪除.TW\n",
    "    df2 = df2.replace('\\([^\\x00-\\xff]*\\)','',regex=True) # 正則表達式刪除來源\n",
    "    df2 = df2.loc[:,('XQID','V3','V4','V1')]\n",
    "    df2.columns = ['代碼','中文簡稱','新聞內容','日期']\n",
    "    print(df2)\n",
    "\n",
    "\n",
    "\n",
    "if __name__ == '__main__':\n",
    "    每日新聞()"
   ]
  },
  {
   "cell_type": "code",
   "execution_count": null,
   "metadata": {},
   "outputs": [],
   "source": [
    "# 下載財報\n",
    "import requests\n",
    "\n",
    "res = requests.get('https://m.moneydj.com/jsondata/djjson/FundJsonData.xdjjson?x=XDT003F')\n",
    "res.encoding = 'big-5'\n",
    "\n",
    "\n",
    "lines = res.text.split(\"XQID\")\n",
    "\n",
    "import pandas as pd\n",
    "from io import StringIO\n",
    "\n",
    "\n",
    "dfs = pd.read_csv(StringIO(\"\\n\".join(lines).replace(':',''))) # \\n為換行的意思,把list轉換為DataFrame，另外把“=”轉換成‘’\n",
    "\n",
    "\n",
    "dfs.drop(['StatusCode0','Comment\"報上有利多個股','FieldLength4','Result[{\"'],axis=1,inplace=True)\n",
    "dfs.columns=['代碼','商品','利多理由']\n",
    "dfs['代碼'] = dfs['代碼'].apply(lambda x: x.split('.TW\"')[0])\n",
    "dfs['商品'] = dfs['商品'].apply(lambda x: x.split('V3\"')[1])\n",
    "dfs['利多理由'] = dfs['利多理由'].apply(lambda x: x.split('V4\"')[1])\n",
    "dfs['利多理由'] = dfs['利多理由'].apply(lambda x: x.split('}')[0])\n",
    "dfs = dfs.set_index('代碼')\n",
    "dfs"
   ]
  }
 ],
 "metadata": {
  "kernelspec": {
   "display_name": "Python 3.10.7 64-bit (microsoft store)",
   "language": "python",
   "name": "python3"
  },
  "language_info": {
   "codemirror_mode": {
    "name": "ipython",
    "version": 3
   },
   "file_extension": ".py",
   "mimetype": "text/x-python",
   "name": "python",
   "nbconvert_exporter": "python",
   "pygments_lexer": "ipython3",
   "version": "3.9.13"
  },
  "orig_nbformat": 4,
  "vscode": {
   "interpreter": {
    "hash": "0d17bd3c188470cc3cbfd93c90c2f8b3f5ab1a762ae997509e3112b6584543eb"
   }
  }
 },
 "nbformat": 4,
 "nbformat_minor": 2
}
