{
 "cells": [
  {
   "cell_type": "code",
   "execution_count": 2,
   "metadata": {},
   "outputs": [],
   "source": [
    "import os\n",
    "import subprocess\n",
    "\n",
    "input_file = \"C:/Users/PAN/Desktop/lizongsheng10years.ape\"\n",
    "output_file = \"C:/Users/PAN/Desktop/lizongsheng10years.mp3\"\n",
    "\n",
    "# Use ffmpeg to convert APE to MP3\n",
    "# subprocess.call([\"ffmpeg\", \"-i\", input_file, \"-acodec\", \"libmp3lame\", \"-aq\", \"2\", output_file])\n",
    "\n",
    "# 轉換320kbps\n",
    "subprocess.call([\"ffmpeg\", \"-i\", input_file, \"-acodec\", \"libmp3lame\", \"-aq\", \"0\", \"-b:a\", \"320k\", output_file])\n",
    "\n",
    "\n",
    "# Check if output file exists\n",
    "if os.path.exists(output_file):\n",
    "    print(\"Conversion successful!\")\n",
    "else:\n",
    "    print(\"Conversion failed.\")\n"
   ]
  }
 ],
 "metadata": {
  "kernelspec": {
   "display_name": "base",
   "language": "python",
   "name": "python3"
  },
  "language_info": {
   "codemirror_mode": {
    "name": "ipython",
    "version": 3
   },
   "file_extension": ".py",
   "mimetype": "text/x-python",
   "name": "python",
   "nbconvert_exporter": "python",
   "pygments_lexer": "ipython3",
   "version": "3.9.13"
  },
  "orig_nbformat": 4
 },
 "nbformat": 4,
 "nbformat_minor": 2
}
