{
 "cells": [
  {
   "attachments": {},
   "cell_type": "markdown",
   "metadata": {},
   "source": [
    "# Python 函數裝飾器\n",
    "\n",
    "https://www.runoob.com/w3cnote/python-func-decorators.html"
   ]
  },
  {
   "attachments": {},
   "cell_type": "markdown",
   "metadata": {},
   "source": [
    "### 一切皆對象"
   ]
  },
  {
   "cell_type": "code",
   "execution_count": 3,
   "metadata": {},
   "outputs": [
    {
     "data": {
      "text/plain": [
       "'hi yasoob'"
      ]
     },
     "execution_count": 3,
     "metadata": {},
     "output_type": "execute_result"
    }
   ],
   "source": [
    "# 首先理解 Python 中的函數\n",
    "\n",
    "def hi(name=\"yasoob\"):\n",
    "    return \"hi \" + name\n",
    "\n",
    "hi()"
   ]
  },
  {
   "cell_type": "code",
   "execution_count": 4,
   "metadata": {},
   "outputs": [
    {
     "data": {
      "text/plain": [
       "'hi yasoob'"
      ]
     },
     "execution_count": 4,
     "metadata": {},
     "output_type": "execute_result"
    }
   ],
   "source": [
    "# 將一個函數賦值給一個變量，比如:\n",
    "greet = hi\n",
    "# 這裡hi甚至沒有加上()，以你為我們並不是在調用hi函數\n",
    "# 而是將它放在greet變量裡\n",
    "\n",
    "greet()"
   ]
  },
  {
   "cell_type": "code",
   "execution_count": 5,
   "metadata": {},
   "outputs": [
    {
     "ename": "NameError",
     "evalue": "name 'hi' is not defined",
     "output_type": "error",
     "traceback": [
      "\u001b[1;31m---------------------------------------------------------------------------\u001b[0m",
      "\u001b[1;31mNameError\u001b[0m                                 Traceback (most recent call last)",
      "Cell \u001b[1;32mIn[5], line 4\u001b[0m\n\u001b[0;32m      1\u001b[0m \u001b[39m# 這時，如果我們刪掉舊的hi函數，看看會發生什麼？\u001b[39;00m\n\u001b[0;32m      3\u001b[0m \u001b[39mdel\u001b[39;00m hi\n\u001b[1;32m----> 4\u001b[0m hi()\n",
      "\u001b[1;31mNameError\u001b[0m: name 'hi' is not defined"
     ]
    }
   ],
   "source": [
    "# 這時，如果我們刪掉舊的hi函數，看看會發生什麼？\n",
    "\n",
    "del hi\n",
    "hi()"
   ]
  },
  {
   "cell_type": "code",
   "execution_count": 10,
   "metadata": {},
   "outputs": [
    {
     "data": {
      "text/plain": [
       "'hi yasoob'"
      ]
     },
     "execution_count": 10,
     "metadata": {},
     "output_type": "execute_result"
    }
   ],
   "source": [
    "greet()"
   ]
  },
  {
   "attachments": {},
   "cell_type": "markdown",
   "metadata": {},
   "source": [
    "---"
   ]
  },
  {
   "attachments": {},
   "cell_type": "markdown",
   "metadata": {},
   "source": [
    "### 在函數中定義函數\n",
    "\n",
    "以上的為函數的基本只是，接下來更近一步"
   ]
  },
  {
   "cell_type": "code",
   "execution_count": 7,
   "metadata": {},
   "outputs": [
    {
     "name": "stdout",
     "output_type": "stream",
     "text": [
      "now you are inside the hi() function\n",
      "now you are in the greet() function\n",
      "now youa re in the welcome() function\n",
      "now you are back in the hi() function\n"
     ]
    }
   ],
   "source": [
    "def hi(name=\"yasoob\"):\n",
    "    print(\"now you are inside the hi() function\")\n",
    "    \n",
    "    def greet():\n",
    "        return \"now you are in the greet() function\"\n",
    "    \n",
    "    def welcome():\n",
    "        return \"now youa re in the welcome() function\"\n",
    "    \n",
    "    print(greet())\n",
    "    print(welcome())\n",
    "    print(\"now you are back in the hi() function\")\n",
    "    \n",
    "# 無論何時你調用了hi(),greet()和welcome()將會同時被調用\n",
    "hi()"
   ]
  },
  {
   "cell_type": "code",
   "execution_count": 13,
   "metadata": {},
   "outputs": [
    {
     "ename": "NameError",
     "evalue": "name 'greet' is not defined",
     "output_type": "error",
     "traceback": [
      "\u001b[1;31m---------------------------------------------------------------------------\u001b[0m",
      "\u001b[1;31mNameError\u001b[0m                                 Traceback (most recent call last)",
      "Cell \u001b[1;32mIn[13], line 1\u001b[0m\n\u001b[1;32m----> 1\u001b[0m greet()\n",
      "\u001b[1;31mNameError\u001b[0m: name 'greet' is not defined"
     ]
    }
   ],
   "source": [
    "# 然而greet()和welcome()函數在hi()函數之外是不能訪問的：\n",
    "greet()"
   ]
  },
  {
   "attachments": {},
   "cell_type": "markdown",
   "metadata": {},
   "source": [
    "---"
   ]
  },
  {
   "attachments": {},
   "cell_type": "markdown",
   "metadata": {},
   "source": [
    "### 從函數中返回函數\n",
    "\n",
    "現在知道了可以在函數中定義另外的函數。也就是說，我們可以創建嵌套的函數。\n",
    "\n",
    "其實並不需要在一個函數裡去執行另一個函數，我們也可以將其作為輸出返回出來。"
   ]
  },
  {
   "cell_type": "code",
   "execution_count": 14,
   "metadata": {},
   "outputs": [
    {
     "name": "stdout",
     "output_type": "stream",
     "text": [
      "<function hi.<locals>.greet at 0x0000016BEF72FD30>\n"
     ]
    }
   ],
   "source": [
    "def hi(name=\"yasoob\"):\n",
    "    def greet():\n",
    "        return \"now you are in the greet() function\"\n",
    "    \n",
    "    def welcome():\n",
    "        return \"now you are in the welcome() funciton\"\n",
    "    \n",
    "    if name == \"yasoob\":\n",
    "        return greet\n",
    "    else:\n",
    "        return welcome\n",
    "    \n",
    "a = hi()\n",
    "\n",
    "# 結果清晰的展示了`a`現在指向了hi()函數中的greet()函數 \n",
    "print(a)"
   ]
  },
  {
   "cell_type": "code",
   "execution_count": 15,
   "metadata": {},
   "outputs": [
    {
     "name": "stdout",
     "output_type": "stream",
     "text": [
      "now you are in the greet() function\n"
     ]
    }
   ],
   "source": [
    "print(a())"
   ]
  },
  {
   "attachments": {},
   "cell_type": "markdown",
   "metadata": {},
   "source": [
    "透過再次看一遍這個代碼。在 if/else 語句中我們返回 greet 和 welcome，而不是 greet() 和 welcome()。是因為當你把一堆小括號放在後面，這個函數就會執行；然而如果你不放括號在它後面，那它可以被導出傳遞，並且可以賦值給別的變量而不去執行它。\n",
    "\n",
    "當我們寫下 a = hi()，hi()會被執行，而由於 name 參數默認是 yasoob，所以 greet 被返回了。如果我們把語句改為 a = hi(name = \"ali\"),那麼 welcome 函數將會被返回。我們還可以打印出hi()()，這將會輸出 now you are in the greet() function."
   ]
  },
  {
   "cell_type": "code",
   "execution_count": 19,
   "metadata": {},
   "outputs": [
    {
     "data": {
      "text/plain": [
       "'now you are in the greet() function'"
      ]
     },
     "execution_count": 19,
     "metadata": {},
     "output_type": "execute_result"
    }
   ],
   "source": [
    "# 首先呼叫了hi()的函數，再一個()則呼叫了hi()，name=\"yasoob\"的函數。\n",
    "hi()()"
   ]
  },
  {
   "attachments": {},
   "cell_type": "markdown",
   "metadata": {},
   "source": [
    "---"
   ]
  },
  {
   "attachments": {},
   "cell_type": "markdown",
   "metadata": {},
   "source": [
    "### 將函數作為參數傳給另一個函數"
   ]
  },
  {
   "cell_type": "code",
   "execution_count": 21,
   "metadata": {},
   "outputs": [
    {
     "name": "stdout",
     "output_type": "stream",
     "text": [
      "I am doing some boring work before executing hi()\n",
      "hi yasoob!\n"
     ]
    }
   ],
   "source": [
    "def hi():\n",
    "    return \"hi yasoob!\"\n",
    "\n",
    "def doSomethingBeforHi(func):\n",
    "    print(\"I am doing some boring work before executing hi()\")\n",
    "    print(func())\n",
    "    \n",
    "doSomethingBeforHi(hi)"
   ]
  },
  {
   "attachments": {},
   "cell_type": "markdown",
   "metadata": {},
   "source": [
    "---"
   ]
  },
  {
   "attachments": {},
   "cell_type": "markdown",
   "metadata": {},
   "source": [
    "### 你的第一個裝飾器\n",
    "\n",
    "裝飾器能讓你在一個函數的前後去執行代碼\n",
    "\n",
    "透過將函數作為參數傳給另一個函數（裝飾器），我們修改上一個裝飾器，並編寫一個稍微更加有用的程序。"
   ]
  },
  {
   "cell_type": "code",
   "execution_count": 30,
   "metadata": {},
   "outputs": [
    {
     "name": "stdout",
     "output_type": "stream",
     "text": [
      "I am the function which need some decoration to remove my foul smell\n"
     ]
    }
   ],
   "source": [
    "def a_new_decorator(a_func):\n",
    "    \n",
    "    def wrapTheFunction():\n",
    "        print(\"I am doing some boring work before executing a_func()\")\n",
    "        \n",
    "        a_func()\n",
    "        \n",
    "        print(\"I am doing some boring work after executing a_func()\")\n",
    "        \n",
    "    return wrapTheFunction\n",
    "\n",
    "def a_function_requiring_decoration():\n",
    "    print(\"I am the function which need some decoration to remove my foul smell\")\n",
    "    \n",
    "a_function_requiring_decoration()"
   ]
  },
  {
   "cell_type": "code",
   "execution_count": 28,
   "metadata": {},
   "outputs": [
    {
     "name": "stdout",
     "output_type": "stream",
     "text": [
      "I am doing some boring work before executing a_func()\n",
      "I am the function which need some decoration to remove my foul smell\n",
      "I am doing some boring work after executing a_func()\n"
     ]
    }
   ],
   "source": [
    "a_function_requiring_decoration = a_new_decorator(a_function_requiring_decoration)\n",
    "a_function_requiring_decoration()"
   ]
  },
  {
   "attachments": {},
   "cell_type": "markdown",
   "metadata": {},
   "source": [
    "我們應用了之前學習到的原理，這正是 python 裝飾器做的事情。它們封裝了一個函數，並且用這樣或者那樣的方式來修改它的行為。使用 `@` 符號，可以以一個簡短的方式來生成一個被裝飾的函數，下面使用 `@` 來運行之前的代碼："
   ]
  },
  {
   "cell_type": "code",
   "execution_count": 31,
   "metadata": {},
   "outputs": [
    {
     "name": "stdout",
     "output_type": "stream",
     "text": [
      "I am doing some boring work before executing a_func()\n",
      "I am the function which needs some decoration to remove my foul smell\n",
      "I am doing some boring work after executing a_func()\n"
     ]
    }
   ],
   "source": [
    "@a_new_decorator\n",
    "def a_function_requiring_decoration():\n",
    "    \"\"\"Hey you! Decorate me!\"\"\"\n",
    "    print(\"I am the function which needs some decoration to remove my foul smell\")\n",
    "    \n",
    "a_function_requiring_decoration()"
   ]
  },
  {
   "cell_type": "code",
   "execution_count": null,
   "metadata": {},
   "outputs": [],
   "source": [
    "# the @a_new_decorator is just a short way of saying:\n",
    "a_function_requiring_decoration = a_new_decorator(a_function_requiring_decoration)"
   ]
  },
  {
   "cell_type": "code",
   "execution_count": 32,
   "metadata": {},
   "outputs": [
    {
     "name": "stdout",
     "output_type": "stream",
     "text": [
      "wrapTheFunction\n"
     ]
    }
   ],
   "source": [
    "print(a_function_requiring_decoration.__name__)"
   ]
  },
  {
   "attachments": {},
   "cell_type": "markdown",
   "metadata": {},
   "source": [
    "這並不是我們想要的結果. Output輸出應該是\"a_function_requiring_decoration\"，但這裡的函數被warpTheFunction替代了。它重寫了我們函數的名字和注釋文檔。\n",
    "\n",
    "我們可以用 python 提供給我們一個簡單的函數來解決這個問題，那就是functools.wraps。接下來我們直接用functools.wraps來修改上一個例子："
   ]
  },
  {
   "cell_type": "code",
   "execution_count": 33,
   "metadata": {},
   "outputs": [
    {
     "name": "stdout",
     "output_type": "stream",
     "text": [
      "a_function_requiring_decoration\n"
     ]
    }
   ],
   "source": [
    "from functools import wraps\n",
    "\n",
    "def a_new_decorator(a_func):\n",
    "    @wraps(a_func)\n",
    "    def wrapTheFunction():\n",
    "        print(\"I am doing some boring work before executing a_func()\")\n",
    "        a_func()\n",
    "        print(\"I am doing some boring work after executing a_func()\")\n",
    "        \n",
    "    return wrapTheFunction\n",
    "\n",
    "@a_new_decorator\n",
    "def a_function_requiring_decoration():\n",
    "    \"\"\"Hey yo! Decorate me!\"\"\"\n",
    "    print(\"I am the function which needs some decoration to \"\n",
    "          \"remove my foul smell\")\n",
    "    \n",
    "print(a_function_requiring_decoration.__name__)"
   ]
  },
  {
   "cell_type": "code",
   "execution_count": 35,
   "metadata": {},
   "outputs": [
    {
     "name": "stdout",
     "output_type": "stream",
     "text": [
      "I am doing some boring work before executing a_func()\n",
      "I am the function which needs some decoration to remove my foul smell\n",
      "I am doing some boring work after executing a_func()\n"
     ]
    }
   ],
   "source": [
    "a_function_requiring_decoration()"
   ]
  },
  {
   "attachments": {},
   "cell_type": "markdown",
   "metadata": {},
   "source": [
    "藍本規範："
   ]
  },
  {
   "cell_type": "code",
   "execution_count": 36,
   "metadata": {},
   "outputs": [
    {
     "name": "stdout",
     "output_type": "stream",
     "text": [
      "Function is running\n",
      "Function will not run\n"
     ]
    }
   ],
   "source": [
    "from functools import wraps\n",
    "def decorator_name(f):\n",
    "    # @wraps接受一個函數來進行裝飾，並加入了複製函數名稱、注釋文檔、參數列表等等功能。這可以讓我們在裝飾漆裡面訪問在裝飾之前的函數的屬性。\n",
    "    @wraps(f)\n",
    "    def decorated(*args, **kwargs):\n",
    "        if not can_run:\n",
    "            return \"Function will not run\"\n",
    "        return f(*args, **kwargs)\n",
    "    return decorated\n",
    " \n",
    "@decorator_name\n",
    "def func():\n",
    "    return(\"Function is running\")\n",
    " \n",
    "can_run = True\n",
    "print(func())\n",
    "# Output: Function is running\n",
    " \n",
    "can_run = False\n",
    "print(func())"
   ]
  },
  {
   "attachments": {},
   "cell_type": "markdown",
   "metadata": {},
   "source": [
    "---"
   ]
  },
  {
   "attachments": {},
   "cell_type": "markdown",
   "metadata": {},
   "source": [
    "### 使用場景\n",
    "\n",
    "接下來看一下裝飾器在哪些地方特別耀眼，以及使用它可以讓一些事情管理變得更加簡單。\n",
    "\n",
    "<b>授權（Authorization）</b>\n",
    "\n",
    "裝飾器能有助於檢查某個人是否被授權使用一個 web 應用的端點（endpoint）。它們被大量適用於 Flask 和 Django web 框架中。這裡一個例子來使用基於裝飾器的授權："
   ]
  },
  {
   "cell_type": "code",
   "execution_count": null,
   "metadata": {},
   "outputs": [],
   "source": [
    "from functools import warps\n",
    "\n",
    "def requires_auth(f):\n",
    "    @wraps(f)\n",
    "    def decorated(*args, **kwargs):\n",
    "        auth = request.authorization\n",
    "        if not auth or not check_auth(auth.username, auth.password):\n",
    "            authenticate()\n",
    "        return f(*args, **kwargs)\n",
    "    return decorated"
   ]
  },
  {
   "attachments": {},
   "cell_type": "markdown",
   "metadata": {},
   "source": [
    "<b>日誌(Logging)</b>\n",
    "\n",
    "日誌是裝飾器運用的另一個亮點。"
   ]
  },
  {
   "cell_type": "code",
   "execution_count": 4,
   "metadata": {},
   "outputs": [
    {
     "name": "stdout",
     "output_type": "stream",
     "text": [
      "addition_func was called\n"
     ]
    },
    {
     "data": {
      "text/plain": [
       "8"
      ]
     },
     "execution_count": 4,
     "metadata": {},
     "output_type": "execute_result"
    }
   ],
   "source": [
    "from functools import wraps\n",
    "\n",
    "def logit(func):\n",
    "    @wraps(func)\n",
    "    def with_logging(*args, **kwargs):\n",
    "        print(func.__name__ + \" was called\")\n",
    "        return func(*args, **kwargs)\n",
    "    return with_logging\n",
    "\n",
    "@ logit\n",
    "def addition_func(x):\n",
    "    \"\"\"Do some math.\"\"\"\n",
    "    return x + x\n",
    "\n",
    "result = addition_func(4)\n",
    "result"
   ]
  },
  {
   "attachments": {},
   "cell_type": "markdown",
   "metadata": {},
   "source": [
    "---"
   ]
  },
  {
   "attachments": {},
   "cell_type": "markdown",
   "metadata": {},
   "source": [
    "### 帶參數的裝飾器\n",
    "\n",
    "難道@wraps不也是個裝飾器嗎？但是，它接收一個參數，就像任何普通的函數能做的那樣。\n",
    "\n",
    "當你是用@my_decorator語法時，你是在應用一個單個函數作為參數的一個包裹函數。記住，Python裡每個東西都是一個對象，而且這包括函數！記住了這些，就可以編寫一下返回一個包裹函數的函數。\n",
    "<br><br>\n",
    "\n",
    "\n",
    "<b>在函數中嵌入裝飾器</b>\n",
    "\n",
    "我們回到日誌的例子，並創建一個包裹函數，能讓我們指定一個用於輸出的日誌文件。"
   ]
  },
  {
   "cell_type": "code",
   "execution_count": 5,
   "metadata": {},
   "outputs": [
    {
     "name": "stdout",
     "output_type": "stream",
     "text": [
      "myfunc1 was called\n"
     ]
    }
   ],
   "source": [
    "from functools import wraps\n",
    "\n",
    "def logit(logfile='out.log'):\n",
    "    def logging_decorator(func):\n",
    "        @wraps(func)\n",
    "        def wrapped_function(*args, **kwargs):\n",
    "            log_string = func.__name__ + \" was called\"\n",
    "            print(log_string)\n",
    "            \n",
    "            # 打開logfile，並寫入內容\n",
    "            with open(logfile, 'a') as opened_file:\n",
    "                # 現在將日誌打到指定的logfile\n",
    "                opened_file.write(log_string + '\\n')\n",
    "            return func(*args, **kwargs)\n",
    "        return wrapped_function\n",
    "    return logging_decorator\n",
    "\n",
    "@logit()\n",
    "def myfunc1():\n",
    "    pass\n",
    "\n",
    "# 現在一個叫做 out.log 的文件出現了，裡面的內容就是上面的字符串\n",
    "myfunc1()"
   ]
  },
  {
   "cell_type": "code",
   "execution_count": 7,
   "metadata": {},
   "outputs": [
    {
     "name": "stdout",
     "output_type": "stream",
     "text": [
      "myfunc2 was called\n"
     ]
    }
   ],
   "source": [
    "@logit(logfile='func2.log')\n",
    "def myfunc2():\n",
    "    pass\n",
    "\n",
    "# 現在一個叫做 func2.log 的文件出現了，裡面的內容就是上面的字符串\n",
    "myfunc2()"
   ]
  },
  {
   "attachments": {},
   "cell_type": "markdown",
   "metadata": {},
   "source": [
    "---"
   ]
  },
  {
   "attachments": {},
   "cell_type": "markdown",
   "metadata": {},
   "source": [
    "### 裝飾器類\n",
    "\n",
    "現在有了能用於正式環境的 logit 裝飾器，但當我們的應用的某些部分還比較脆弱時，異常也許是需要更緊急關注的事情。比方說有時你只想打日誌到一個文件，而有時你先把引起你注意的問題發送到一個 email，同時也保留日誌，留個記錄。這是一個使用繼承的場景，但目前為止我們只看到過用來構建裝飾器的函數。\n",
    "\n",
    "幸運的是，類也可以用來構建裝飾器。那我們現在以一個類而不是一個函數的方式，來重新構建 logit。"
   ]
  },
  {
   "cell_type": "code",
   "execution_count": 8,
   "metadata": {},
   "outputs": [],
   "source": [
    "from functools import wraps\n",
    "\n",
    "class logit(object):\n",
    "    def __init__(self, logfile = 'out.log'):\n",
    "        self.logfile = logfile\n",
    "        \n",
    "    def __call__(self, func):\n",
    "        @wraps(func)\n",
    "        def wrapped_function(*args, **kwargs):\n",
    "            log_string = func.__name__ + \" was called\"\n",
    "            print(log_string)\n",
    "            \n",
    "            # 打開 logfile 並寫入\n",
    "            with open(self.logfile, 'a') as opened_file:\n",
    "                # 現在將日誌打到指定的文件\n",
    "                opened_file.write(log_string + '\\n')\n",
    "            # 現在，發送一個通知\n",
    "            self.notify()\n",
    "            return func(*args, **kwargs)\n",
    "        return wrapped_function\n",
    "    \n",
    "    def notify(self):\n",
    "        # logit 只打日誌，不做別的\n",
    "        pass"
   ]
  },
  {
   "cell_type": "code",
   "execution_count": 9,
   "metadata": {},
   "outputs": [],
   "source": [
    "# 這個實現有一個附加優勢，在於比嵌套函數的方式更加整潔，而且包裹一個函數函式使用跟以前一樣的語法：\n",
    "@logit()\n",
    "def myfunc1():\n",
    "    pass"
   ]
  },
  {
   "cell_type": "code",
   "execution_count": 10,
   "metadata": {},
   "outputs": [],
   "source": [
    "# 現在，我們給 logit 創建子類，來添加 email 的功能：\n",
    "\n",
    "class email_logit(logit):\n",
    "    '''\n",
    "    一個logit的實現版本，可以在函數調用時發送email給管理員\n",
    "    '''\n",
    "    def __init__(self, email = 'admin@admin.com', *args, **kwargs):\n",
    "        self.email = email\n",
    "        super(email_logit, self).__init__(*args, **kwargs)\n",
    "        \n",
    "    def notify(self):\n",
    "        # 發送一封email到self.email\n",
    "        # 這裡就不做實現了\n",
    "        pass"
   ]
  },
  {
   "attachments": {},
   "cell_type": "markdown",
   "metadata": {},
   "source": [
    "這樣嵌套`email_logit(logit)`兩個函式之後，將會產生同樣的效果。但在寫日誌的基礎上，還會多發送一封郵件給管理員。"
   ]
  },
  {
   "attachments": {},
   "cell_type": "markdown",
   "metadata": {},
   "source": [
    "在這個版本的 hi() 函數中，它接受一個函數作為參數 func，然後定義了一個新的函數 wrapper()，在這個函數中會先輸出一些文字，然後執行傳入的函數 func()，最後再輸出一些文字。\n",
    "\n",
    "在這個版本中，當我們使用裝飾器 @hi 套用在 my_name() 函數上時，它會將 my_name() 函數作為參數傳入 hi() 函數中，然後返回一個新的函數 wrapper()，最後將 my_name() 函數重新指向這個新的函數 wrapper()，這樣當我們調用 my_name() 函數時，實際上會執行的是 wrapper() 函數。"
   ]
  },
  {
   "cell_type": "code",
   "execution_count": 1,
   "metadata": {},
   "outputs": [
    {
     "name": "stdout",
     "output_type": "stream",
     "text": [
      "Calling hi() function\n",
      "My name is PAN\n",
      "Exiting hi() function\n"
     ]
    }
   ],
   "source": [
    "def hi(func):\n",
    "    def wrapper():\n",
    "        print(\"Calling hi() function\")\n",
    "        func()\n",
    "        print(\"Exiting hi() function\")\n",
    "    return wrapper\n",
    "\n",
    "@hi\n",
    "def my_name():\n",
    "    value1 = \"PAN\"\n",
    "    print(f\"My name is {value1}\")\n",
    "\n",
    "my_name()"
   ]
  }
 ],
 "metadata": {
  "kernelspec": {
   "display_name": "base",
   "language": "python",
   "name": "python3"
  },
  "language_info": {
   "codemirror_mode": {
    "name": "ipython",
    "version": 3
   },
   "file_extension": ".py",
   "mimetype": "text/x-python",
   "name": "python",
   "nbconvert_exporter": "python",
   "pygments_lexer": "ipython3",
   "version": "3.9.13"
  },
  "orig_nbformat": 4
 },
 "nbformat": 4,
 "nbformat_minor": 2
}
