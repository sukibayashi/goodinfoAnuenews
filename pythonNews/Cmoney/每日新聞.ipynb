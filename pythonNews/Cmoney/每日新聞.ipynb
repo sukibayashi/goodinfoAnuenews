{
 "cells": [
  {
   "cell_type": "code",
   "execution_count": 1,
   "metadata": {},
   "outputs": [
    {
     "name": "stdout",
     "output_type": "stream",
     "text": [
      "     代碼  中文簡稱                  新聞內容          日期\n",
      "0  2206  三陽工業         三陽工業 Q3每股純益倍增  2022/11/11\n",
      "1  2308   台達電  電動車助攻台達電 拚2023年營收達兆元  2022/11/11\n",
      "2  2330   台積電         台積電營收 寫最光輝10月  2022/11/11\n",
      "3  2337    旺宏   旺宏  搶下NVIDIA、高通車用大單  2022/11/11\n",
      "4  2371    大同        大同甩包袱 Q3淨利增逾十倍  2022/11/11\n",
      "5  2412   中華電   中華電前十月EPS 399元 超越財測  2022/11/11\n",
      "6  3289    宜特            宜特布局車用 報佳音  2022/11/11\n",
      "7  3406   玉晶光   玉晶光上季獲利創高 EPS 1534元  2022/11/11\n",
      "8  8046    南電   行動/TV需求回溫 南電BT載板急單現  2022/11/11\n",
      "9  9933    中鼎            中鼎在建案量 創新高  2022/11/11\n"
     ]
    }
   ],
   "source": [
    "import requests\n",
    "import json\n",
    "import pandas as pd\n",
    "from pandas import json_normalize\n",
    "import sqlite3\n",
    "import numpy as np\n",
    "\n",
    "cmoneyWEB = 'https://m.moneydj.com/jsondata/djjson/FundJsonData.xdjjson?x=XDT003F'\n",
    "\n",
    "def 每日新聞():\n",
    "    global df2\n",
    "    headers = {'User-Agent': 'Mozilla/5.0 (Windows NT 10.0; Win64; x64) AppleWebKit/537.36 (KHTML, like Gecko) Chrome/105.0.0.0 Safari/537.36 Edg/105.0.1343.33'}\n",
    "    res = requests.get(cmoneyWEB, headers = headers)\n",
    "    res.encoding = 'utf-8' # requests.models.Response\n",
    "    # json相關(https://medium.com/datainpoint/scraping-json-with-python-requests-95a56e61096a)\n",
    "    res_text = res.text # str\n",
    "    today_json = json.loads(res_text) # dict\n",
    "    \n",
    "    # json_normalize()函式被非常廣泛地用於讀取巢狀的json字串並返回一個DataFrame\n",
    "    df = json_normalize(today_json['ResultSet']['Result'])\n",
    "    df2 = df.copy()\n",
    "    df2 = df2.replace('\\.[A-Z]*','',regex=True) # 用正則表達式刪除.TW\n",
    "    df2 = df2.replace('\\([^\\x00-\\xff]*\\)','',regex=True) # 正則表達式刪除來源\n",
    "    df2 = df2.loc[:,('XQID','V3','V4','V1')]\n",
    "    df2.columns = ['代碼','中文簡稱','新聞內容','日期']\n",
    "    print(df2)\n",
    "\n",
    "\n",
    "\n",
    "if __name__ == '__main__':\n",
    "    每日新聞()"
   ]
  },
  {
   "cell_type": "code",
   "execution_count": null,
   "metadata": {},
   "outputs": [],
   "source": []
  }
 ],
 "metadata": {
  "kernelspec": {
   "display_name": "Python 3.10.7 64-bit (microsoft store)",
   "language": "python",
   "name": "python3"
  },
  "language_info": {
   "codemirror_mode": {
    "name": "ipython",
    "version": 3
   },
   "file_extension": ".py",
   "mimetype": "text/x-python",
   "name": "python",
   "nbconvert_exporter": "python",
   "pygments_lexer": "ipython3",
   "version": "3.10.9 (tags/v3.10.9:1dd9be6, Dec  6 2022, 20:01:21) [MSC v.1934 64 bit (AMD64)]"
  },
  "orig_nbformat": 4,
  "vscode": {
   "interpreter": {
    "hash": "0d17bd3c188470cc3cbfd93c90c2f8b3f5ab1a762ae997509e3112b6584543eb"
   }
  }
 },
 "nbformat": 4,
 "nbformat_minor": 2
}
