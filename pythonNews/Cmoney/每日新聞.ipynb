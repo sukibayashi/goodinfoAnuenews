{
 "cells": [
  {
   "cell_type": "code",
   "execution_count": 143,
   "metadata": {},
   "outputs": [
    {
     "name": "stdout",
     "output_type": "stream",
     "text": [
      "     代碼 中文簡稱          新聞內容          日期\n",
      "0  2501   國建  國建攜三井 拿下新竹標案  2022/09/15\n",
      "1  2615   萬海    萬海：近洋線旺季可期  2022/09/15\n",
      "2  4938   和碩   和碩攻電動車 在墨擴產  2022/09/15\n",
      "3  6510   精測    精測 明年營收拚創高  2022/09/15\n",
      "4  8109   博大  博大 上月每股賺122元  2022/09/15\n",
      "5  9914  美利達    自行車雙雄 獲利看旺  2022/09/15\n",
      "6  9921   巨大    自行車雙雄 獲利看旺  2022/09/15\n"
     ]
    }
   ],
   "source": [
    "import requests\n",
    "import json\n",
    "import pandas as pd\n",
    "from pandas import json_normalize\n",
    "import sqlite3\n",
    "import numpy as np\n",
    "\n",
    "cmoneyWEB = 'https://m.moneydj.com/jsondata/djjson/FundJsonData.xdjjson?x=XDT003F'\n",
    "\n",
    "def 每日新聞():\n",
    "    global df2\n",
    "    headers = {'User-Agent': 'Mozilla/5.0 (Windows NT 10.0; Win64; x64) AppleWebKit/537.36 (KHTML, like Gecko) Chrome/105.0.0.0 Safari/537.36 Edg/105.0.1343.33'}\n",
    "    res = requests.get(cmoneyWEB, headers = headers)\n",
    "    res.encoding = 'utf-8' # requests.models.Response\n",
    "    # json相關(https://medium.com/datainpoint/scraping-json-with-python-requests-95a56e61096a)\n",
    "    res_text = res.text # str\n",
    "    today_json = json.loads(res_text) # dict\n",
    "    \n",
    "    # json_normalize()函式被非常廣泛地用於讀取巢狀的json字串並返回一個DataFrame\n",
    "    df = json_normalize(today_json['ResultSet']['Result'])\n",
    "    df2 = df.copy()\n",
    "    df2 = df2.replace('\\.[A-Z]*','',regex=True) # 用正則表達式刪除.TW\n",
    "    df2 = df2.replace('\\([^\\x00-\\xff]*\\)','',regex=True) # 正則表達式刪除來源\n",
    "    df2 = df2.loc[:,('XQID','V3','V4','V1')]\n",
    "    df2.columns = ['代碼','中文簡稱','新聞內容','日期']\n",
    "    print(df2)\n",
    "\n",
    "\n",
    "\n",
    "if __name__ == '__main__':\n",
    "    每日新聞()"
   ]
  },
  {
   "cell_type": "code",
   "execution_count": null,
   "metadata": {},
   "outputs": [],
   "source": []
  }
 ],
 "metadata": {
  "kernelspec": {
   "display_name": "Python 3.10.7 64-bit (microsoft store)",
   "language": "python",
   "name": "python3"
  },
  "language_info": {
   "codemirror_mode": {
    "name": "ipython",
    "version": 3
   },
   "file_extension": ".py",
   "mimetype": "text/x-python",
   "name": "python",
   "nbconvert_exporter": "python",
   "pygments_lexer": "ipython3",
   "version": "3.10.7"
  },
  "orig_nbformat": 4,
  "vscode": {
   "interpreter": {
    "hash": "0d17bd3c188470cc3cbfd93c90c2f8b3f5ab1a762ae997509e3112b6584543eb"
   }
  }
 },
 "nbformat": 4,
 "nbformat_minor": 2
}
