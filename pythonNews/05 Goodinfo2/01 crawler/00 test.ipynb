{
 "cells": [
  {
   "cell_type": "code",
   "execution_count": 1,
   "metadata": {},
   "outputs": [],
   "source": [
    "import datetime\n",
    "import typing\n",
    "import requests\n",
    "\n",
    "def header():\n",
    "    return {\n",
    "        \"Accept\": \"application/json, text/javascript, */*; q=0.01\",\n",
    "        \"Accept-Encoding\": \"gzip, deflate, br\",\n",
    "        \"Accept-Language\": \"zh-TW,zh;q=0.9,en-US;q=0.8,en;q=0.7\",\n",
    "        \"Connection\": \"keep-alive\",\n",
    "        \"Host\": \"www.tpex.org.tw\",\n",
    "        \"Referer\": \"https://www.tpex.org.tw/web/stock/3insti/qfii/qfii.php?l=zh-tw&fbclid=IwAR3Scg28lvwa04-t4S-Fl-zxLreFr0pd6KehtvoHyRb3JDkmkQNBwWoq1VI\",\n",
    "        \"sec-ch-ua\": '\" Not A;Brand\";v=\"99\", \"Chromium\";v=\"101\", \"Google Chrome\";v=\"101\"',\n",
    "        \"sec-ch-ua-mobile\": \"?0\",\n",
    "        \"sec-ch-ua-platform\": \"Windows\",\n",
    "        \"Sec-Fetch-Dest\": \"empty\",\n",
    "        \"Sec-Fetch-Mode\": \"cors\",\n",
    "        \"Sec-Fetch-Site\": \"same-origin\",\n",
    "        \"User-Agent\": \"Mozilla/5.0 (Windows NT 10.0; Win64; x64) AppleWebKit/537.36 (KHTML, like Gecko) Chrome/101.0.4951.67 Safari/537.36\",\n",
    "        \"X-Requested-With\": \"XMLHttpRequest\",\n",
    "    }\n",
    "\n",
    "\n",
    "def crawler(date: str):\n",
    "    date = date.replace(\"-\", \"/\")\n",
    "    year = date.split(\"/\")[0]\n",
    "    date = date.replace(year, str(int(year) - 1911))\n",
    "    url = \"https://www.tpex.org.tw/web/stock/3insti/qfii/qfii_result.php?l=zh-tw&d={}\".format(date)\n",
    "    res = requests.get(\n",
    "        url=url,\n",
    "        headers=header(),\n",
    "    )\n",
    "    \n",
    "    return res\n",
    "\n",
    "value1 = crawler('20230512')"
   ]
  },
  {
   "cell_type": "code",
   "execution_count": 3,
   "metadata": {},
   "outputs": [
    {
     "data": {
      "text/plain": [
       "'{\"reportDate\":\"2023/05/12\",\"iTotalRecords\":0,\"aaData\":[]}'"
      ]
     },
     "execution_count": 3,
     "metadata": {},
     "output_type": "execute_result"
    }
   ],
   "source": [
    "value1.text"
   ]
  }
 ],
 "metadata": {
  "kernelspec": {
   "display_name": "base",
   "language": "python",
   "name": "python3"
  },
  "language_info": {
   "codemirror_mode": {
    "name": "ipython",
    "version": 3
   },
   "file_extension": ".py",
   "mimetype": "text/x-python",
   "name": "python",
   "nbconvert_exporter": "python",
   "pygments_lexer": "ipython3",
   "version": "3.9.13"
  },
  "orig_nbformat": 4
 },
 "nbformat": 4,
 "nbformat_minor": 2
}
