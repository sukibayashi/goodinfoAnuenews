{
 "cells": [
  {
   "cell_type": "code",
   "execution_count": 1,
   "metadata": {},
   "outputs": [
    {
     "data": {
      "application/vnd.jupyter.widget-view+json": {
       "model_id": "3873ab9f77e14d23b448738370d1c8cb",
       "version_major": 2,
       "version_minor": 0
      },
      "text/plain": [
       "VBox(children=(Label(value='price (from 2013-01-02 to 2022-09-20)'), HBox(children=(DatePicker(value=datetime.…"
      ]
     },
     "metadata": {},
     "output_type": "display_data"
    },
    {
     "data": {
      "application/vnd.jupyter.widget-view+json": {
       "model_id": "aab4ce485c9e4cdf9717800da910eb28",
       "version_major": 2,
       "version_minor": 0
      },
      "text/plain": [
       "VBox(children=(Label(value='monthly_revenue (from 2005-02-10 to 2022-09-10)'), HBox(children=(DatePicker(value…"
      ]
     },
     "metadata": {},
     "output_type": "display_data"
    },
    {
     "data": {
      "application/vnd.jupyter.widget-view+json": {
       "model_id": "6e7ba4ac211746d3bd7b5218c656d78c",
       "version_major": 2,
       "version_minor": 0
      },
      "text/plain": [
       "VBox(children=(Label(value='finance_statement (No table found)(對於finance_statement是正常情況)'), HBox(children=(Dat…"
      ]
     },
     "metadata": {},
     "output_type": "display_data"
    }
   ],
   "source": [
    "from finlab.crawler import (\n",
    "    widget, \n",
    "    \n",
    "    crawl_price, \n",
    "    crawl_monthly_report, \n",
    "    crawl_finance_statement_by_date,\n",
    "    \n",
    "    date_range, month_range, season_range\n",
    ")\n",
    "\n",
    "import sqlite3\n",
    "import os\n",
    "conn = sqlite3.connect(os.path.join('data', \"data.db\"))\n",
    "\n",
    "# crawl_price 爬蟲資料\n",
    "# data_range 資料範圍\n",
    "widget(conn, 'price', crawl_price, date_range)\n",
    "widget(conn, 'monthly_revenue', crawl_monthly_report, month_range)\n",
    "widget(conn, 'finance_statement', crawl_finance_statement_by_date, season_range)"
   ]
  },
  {
   "cell_type": "markdown",
   "metadata": {},
   "source": [
    "# 時間區間範例："
   ]
  },
  {
   "cell_type": "code",
   "execution_count": 5,
   "metadata": {},
   "outputs": [
    {
     "name": "stdout",
     "output_type": "stream",
     "text": [
      "2010年抓取財報的時間點是\n"
     ]
    },
    {
     "data": {
      "text/plain": [
       "[datetime.date(2010, 3, 31),\n",
       " datetime.date(2010, 5, 15),\n",
       " datetime.date(2010, 8, 14),\n",
       " datetime.date(2010, 11, 14)]"
      ]
     },
     "execution_count": 5,
     "metadata": {},
     "output_type": "execute_result"
    }
   ],
   "source": [
    "import datetime\n",
    "print('2010年抓取財報的時間點是')\n",
    "# date_range(datetime.date(2018,1,1), datetime.date(2018,2,1)) # 以日期排\n",
    "# month_range(datetime.date(2018,1,1), datetime.date(2018,2,1)) # 以月份排\n",
    "season_range(datetime.date(2010,1,1), datetime.date(2011,1,1))"
   ]
  },
  {
   "cell_type": "markdown",
   "metadata": {},
   "source": [
    "# 每季財報 時間區間補充：\n",
    "\n",
    "關於每季財報爬取，選取的時間範圍要「包含」以下時段，就能夠爬到截止日期的財報囉！例如：\n",
    "\n",
    "* 2010年3月31號 --> 2009 第四季\n",
    "* 2010年5月15號 --> 2010 第一季\n",
    "* 2010年8月14號 --> 2010 第二季\n",
    "* 2010年11月14號 --> 2010 第三季\n",
    "\n",
    "所以假如我們想要抓2018年的第一季，就可以輸入一個時間範圍，例如：\n",
    "\n",
    "* 2018年5月01號 到 2018年5月31號\n",
    "\n",
    "因為這段時間有包含 2018年5月15號，所以就會下載 2018年第一季的財報喔！"
   ]
  },
  {
   "cell_type": "markdown",
   "metadata": {},
   "source": [
    "# 程式化更新資料"
   ]
  },
  {
   "cell_type": "code",
   "execution_count": 4,
   "metadata": {
    "collapsed": true
   },
   "outputs": [
    {
     "name": "stdout",
     "output_type": "stream",
     "text": [
      "start crawl price from  2018-03-26 to 2018-03-26\n"
     ]
    },
    {
     "data": {
      "application/vnd.jupyter.widget-view+json": {
       "model_id": "3fd5ffb987dd4854a06a67ad324b2231",
       "version_major": 2,
       "version_minor": 0
      },
      "text/plain": [
       "  0%|          | 0/1 [00:00<?, ?it/s]"
      ]
     },
     "metadata": {},
     "output_type": "display_data"
    },
    {
     "name": "stdout",
     "output_type": "stream",
     "text": [
      "crawling 2018-03-26\n",
      "success\n",
      "start crawl monthly_revenue from  2018-03-01 to 2018-03-01\n"
     ]
    },
    {
     "data": {
      "application/vnd.jupyter.widget-view+json": {
       "model_id": "794328cfc79742bb96fea1da222e4c5c",
       "version_major": 2,
       "version_minor": 0
      },
      "text/plain": [
       "  0%|          | 0/1 [00:00<?, ?it/s]"
      ]
     },
     "metadata": {},
     "output_type": "display_data"
    },
    {
     "name": "stdout",
     "output_type": "stream",
     "text": [
      "crawling 2018-03-01\n",
      "https://mops.twse.com.tw/nas/t21/sii/t21sc03_107_3.html\n"
     ]
    },
    {
     "name": "stderr",
     "output_type": "stream",
     "text": [
      "c:\\Users\\PAN\\anaconda3\\lib\\site-packages\\urllib3\\connectionpool.py:1043: InsecureRequestWarning: Unverified HTTPS request is being made to host 'mops.twse.com.tw'. Adding certificate verification is strongly advised. See: https://urllib3.readthedocs.io/en/1.26.x/advanced-usage.html#ssl-warnings\n",
      "  warnings.warn(\n"
     ]
    },
    {
     "name": "stdout",
     "output_type": "stream",
     "text": [
      "success\n",
      "start crawl finance_statement from  2018-03-31 to 2018-03-31\n"
     ]
    },
    {
     "data": {
      "application/vnd.jupyter.widget-view+json": {
       "model_id": "04f8ca99bc7a42dbb68aa91e0036b1ae",
       "version_major": 2,
       "version_minor": 0
      },
      "text/plain": [
       "  0%|          | 0/1 [00:00<?, ?it/s]"
      ]
     },
     "metadata": {},
     "output_type": "display_data"
    },
    {
     "name": "stdout",
     "output_type": "stream",
     "text": [
      "crawling 2018-03-31\n",
      "https://mops.twse.com.tw/nas/t21/sii/t21sc03_106_11.html\n"
     ]
    },
    {
     "name": "stderr",
     "output_type": "stream",
     "text": [
      "c:\\Users\\PAN\\anaconda3\\lib\\site-packages\\urllib3\\connectionpool.py:1043: InsecureRequestWarning: Unverified HTTPS request is being made to host 'mops.twse.com.tw'. Adding certificate verification is strongly advised. See: https://urllib3.readthedocs.io/en/1.26.x/advanced-usage.html#ssl-warnings\n",
      "  warnings.warn(\n"
     ]
    },
    {
     "name": "stdout",
     "output_type": "stream",
     "text": [
      "https://mops.twse.com.tw/server-java/t164sb01?step=1&CO_ID=1101&SYEAR=2017&SSEASON=4&REPORT_ID=C\n",
      "**WARRN: requests cannot get stock 1101 .html\n"
     ]
    },
    {
     "name": "stderr",
     "output_type": "stream",
     "text": []
    },
    {
     "name": "stdout",
     "output_type": "stream",
     "text": [
      "https://mops.twse.com.tw/server-java/t164sb01?step=1&CO_ID=1102&SYEAR=2017&SSEASON=4&REPORT_ID=C\n",
      "**WARRN: requests cannot get stock 1102 .html\n"
     ]
    },
    {
     "name": "stderr",
     "output_type": "stream",
     "text": []
    },
    {
     "name": "stdout",
     "output_type": "stream",
     "text": [
      "https://mops.twse.com.tw/server-java/t164sb01?step=1&CO_ID=1103&SYEAR=2017&SSEASON=4&REPORT_ID=C\n",
      "**WARRN: requests cannot get stock 1103 .html\n"
     ]
    },
    {
     "name": "stderr",
     "output_type": "stream",
     "text": []
    },
    {
     "name": "stdout",
     "output_type": "stream",
     "text": [
      "https://mops.twse.com.tw/server-java/t164sb01?step=1&CO_ID=1104&SYEAR=2017&SSEASON=4&REPORT_ID=C\n",
      "**WARRN: requests cannot get stock 1104 .html\n"
     ]
    },
    {
     "name": "stderr",
     "output_type": "stream",
     "text": []
    },
    {
     "name": "stdout",
     "output_type": "stream",
     "text": [
      "https://mops.twse.com.tw/server-java/t164sb01?step=1&CO_ID=1108&SYEAR=2017&SSEASON=4&REPORT_ID=C\n",
      "**WARRN: requests cannot get stock 1108 .html\n"
     ]
    },
    {
     "name": "stderr",
     "output_type": "stream",
     "text": []
    },
    {
     "name": "stdout",
     "output_type": "stream",
     "text": [
      "https://mops.twse.com.tw/server-java/t164sb01?step=1&CO_ID=1109&SYEAR=2017&SSEASON=4&REPORT_ID=C\n",
      "**WARRN: requests cannot get stock 1109 .html\n"
     ]
    },
    {
     "name": "stderr",
     "output_type": "stream",
     "text": []
    },
    {
     "name": "stdout",
     "output_type": "stream",
     "text": [
      "https://mops.twse.com.tw/server-java/t164sb01?step=1&CO_ID=1110&SYEAR=2017&SSEASON=4&REPORT_ID=C\n",
      "**WARRN: requests cannot get stock 1110 .html\n"
     ]
    },
    {
     "name": "stderr",
     "output_type": "stream",
     "text": []
    },
    {
     "name": "stdout",
     "output_type": "stream",
     "text": [
      "https://mops.twse.com.tw/server-java/t164sb01?step=1&CO_ID=1201&SYEAR=2017&SSEASON=4&REPORT_ID=C\n",
      "**WARRN: requests cannot get stock 1201 .html\n"
     ]
    },
    {
     "name": "stderr",
     "output_type": "stream",
     "text": []
    },
    {
     "name": "stdout",
     "output_type": "stream",
     "text": [
      "https://mops.twse.com.tw/server-java/t164sb01?step=1&CO_ID=1203&SYEAR=2017&SSEASON=4&REPORT_ID=C\n",
      "**WARRN: requests cannot get stock 1203 .html\n"
     ]
    },
    {
     "name": "stderr",
     "output_type": "stream",
     "text": []
    },
    {
     "name": "stdout",
     "output_type": "stream",
     "text": [
      "https://mops.twse.com.tw/server-java/t164sb01?step=1&CO_ID=1210&SYEAR=2017&SSEASON=4&REPORT_ID=C\n",
      "**WARRN: requests cannot get stock 1210 .html\n"
     ]
    },
    {
     "name": "stderr",
     "output_type": "stream",
     "text": []
    },
    {
     "name": "stdout",
     "output_type": "stream",
     "text": [
      "https://mops.twse.com.tw/server-java/t164sb01?step=1&CO_ID=1213&SYEAR=2017&SSEASON=4&REPORT_ID=C\n",
      "**WARRN: requests cannot get stock 1213 .html\n"
     ]
    },
    {
     "name": "stderr",
     "output_type": "stream",
     "text": []
    },
    {
     "name": "stdout",
     "output_type": "stream",
     "text": [
      "https://mops.twse.com.tw/server-java/t164sb01?step=1&CO_ID=1215&SYEAR=2017&SSEASON=4&REPORT_ID=C\n",
      "**WARRN: requests cannot get stock 1215 .html\n"
     ]
    },
    {
     "name": "stderr",
     "output_type": "stream",
     "text": []
    },
    {
     "name": "stdout",
     "output_type": "stream",
     "text": [
      "https://mops.twse.com.tw/server-java/t164sb01?step=1&CO_ID=1216&SYEAR=2017&SSEASON=4&REPORT_ID=C\n",
      "**WARRN: requests cannot get stock 1216 .html\n"
     ]
    },
    {
     "name": "stderr",
     "output_type": "stream",
     "text": []
    },
    {
     "name": "stdout",
     "output_type": "stream",
     "text": [
      "https://mops.twse.com.tw/server-java/t164sb01?step=1&CO_ID=1217&SYEAR=2017&SSEASON=4&REPORT_ID=C\n",
      "**WARRN: requests cannot get stock 1217 .html\n"
     ]
    },
    {
     "name": "stderr",
     "output_type": "stream",
     "text": []
    },
    {
     "name": "stdout",
     "output_type": "stream",
     "text": [
      "https://mops.twse.com.tw/server-java/t164sb01?step=1&CO_ID=1218&SYEAR=2017&SSEASON=4&REPORT_ID=C\n",
      "**WARRN: requests cannot get stock 1218 .html\n"
     ]
    },
    {
     "name": "stderr",
     "output_type": "stream",
     "text": []
    },
    {
     "name": "stdout",
     "output_type": "stream",
     "text": [
      "https://mops.twse.com.tw/server-java/t164sb01?step=1&CO_ID=1219&SYEAR=2017&SSEASON=4&REPORT_ID=C\n",
      "**WARRN: requests cannot get stock 1219 .html\n"
     ]
    },
    {
     "name": "stderr",
     "output_type": "stream",
     "text": []
    },
    {
     "name": "stdout",
     "output_type": "stream",
     "text": [
      "https://mops.twse.com.tw/server-java/t164sb01?step=1&CO_ID=1220&SYEAR=2017&SSEASON=4&REPORT_ID=C\n",
      "**WARRN: requests cannot get stock 1220 .html\n"
     ]
    },
    {
     "name": "stderr",
     "output_type": "stream",
     "text": []
    },
    {
     "name": "stdout",
     "output_type": "stream",
     "text": [
      "https://mops.twse.com.tw/server-java/t164sb01?step=1&CO_ID=1225&SYEAR=2017&SSEASON=4&REPORT_ID=C\n",
      "**WARRN: requests cannot get stock 1225 .html\n"
     ]
    },
    {
     "name": "stderr",
     "output_type": "stream",
     "text": []
    },
    {
     "name": "stdout",
     "output_type": "stream",
     "text": [
      "https://mops.twse.com.tw/server-java/t164sb01?step=1&CO_ID=1227&SYEAR=2017&SSEASON=4&REPORT_ID=C\n",
      "**WARRN: requests cannot get stock 1227 .html\n"
     ]
    },
    {
     "name": "stderr",
     "output_type": "stream",
     "text": []
    },
    {
     "name": "stdout",
     "output_type": "stream",
     "text": [
      "https://mops.twse.com.tw/server-java/t164sb01?step=1&CO_ID=1229&SYEAR=2017&SSEASON=4&REPORT_ID=C\n",
      "**WARRN: requests cannot get stock 1229 .html\n"
     ]
    },
    {
     "name": "stderr",
     "output_type": "stream",
     "text": []
    },
    {
     "name": "stdout",
     "output_type": "stream",
     "text": [
      "https://mops.twse.com.tw/server-java/t164sb01?step=1&CO_ID=1231&SYEAR=2017&SSEASON=4&REPORT_ID=C\n",
      "**WARRN: requests cannot get stock 1231 .html\n"
     ]
    },
    {
     "name": "stderr",
     "output_type": "stream",
     "text": []
    },
    {
     "name": "stdout",
     "output_type": "stream",
     "text": [
      "https://mops.twse.com.tw/server-java/t164sb01?step=1&CO_ID=1232&SYEAR=2017&SSEASON=4&REPORT_ID=C\n",
      "**WARRN: requests cannot get stock 1232 .html\n"
     ]
    },
    {
     "name": "stderr",
     "output_type": "stream",
     "text": []
    },
    {
     "name": "stdout",
     "output_type": "stream",
     "text": [
      "https://mops.twse.com.tw/server-java/t164sb01?step=1&CO_ID=1233&SYEAR=2017&SSEASON=4&REPORT_ID=C\n",
      "**WARRN: requests cannot get stock 1233 .html\n"
     ]
    },
    {
     "name": "stderr",
     "output_type": "stream",
     "text": []
    },
    {
     "name": "stdout",
     "output_type": "stream",
     "text": [
      "https://mops.twse.com.tw/server-java/t164sb01?step=1&CO_ID=1234&SYEAR=2017&SSEASON=4&REPORT_ID=C\n",
      "**WARRN: requests cannot get stock 1234 .html\n"
     ]
    },
    {
     "name": "stderr",
     "output_type": "stream",
     "text": []
    },
    {
     "name": "stdout",
     "output_type": "stream",
     "text": [
      "https://mops.twse.com.tw/server-java/t164sb01?step=1&CO_ID=1235&SYEAR=2017&SSEASON=4&REPORT_ID=C\n",
      "**WARRN: requests cannot get stock 1235 .html\n"
     ]
    },
    {
     "name": "stderr",
     "output_type": "stream",
     "text": []
    },
    {
     "name": "stdout",
     "output_type": "stream",
     "text": [
      "https://mops.twse.com.tw/server-java/t164sb01?step=1&CO_ID=1236&SYEAR=2017&SSEASON=4&REPORT_ID=C\n",
      "**WARRN: requests cannot get stock 1236 .html\n"
     ]
    },
    {
     "name": "stderr",
     "output_type": "stream",
     "text": []
    },
    {
     "name": "stdout",
     "output_type": "stream",
     "text": [
      "https://mops.twse.com.tw/server-java/t164sb01?step=1&CO_ID=1256&SYEAR=2017&SSEASON=4&REPORT_ID=C\n",
      "**WARRN: requests cannot get stock 1256 .html\n"
     ]
    },
    {
     "name": "stderr",
     "output_type": "stream",
     "text": []
    },
    {
     "name": "stdout",
     "output_type": "stream",
     "text": [
      "https://mops.twse.com.tw/server-java/t164sb01?step=1&CO_ID=1301&SYEAR=2017&SSEASON=4&REPORT_ID=C\n",
      "**WARRN: requests cannot get stock 1301 .html\n"
     ]
    },
    {
     "name": "stderr",
     "output_type": "stream",
     "text": []
    },
    {
     "name": "stdout",
     "output_type": "stream",
     "text": [
      "https://mops.twse.com.tw/server-java/t164sb01?step=1&CO_ID=1303&SYEAR=2017&SSEASON=4&REPORT_ID=C\n",
      "**WARRN: requests cannot get stock 1303 .html\n"
     ]
    },
    {
     "name": "stderr",
     "output_type": "stream",
     "text": []
    },
    {
     "name": "stdout",
     "output_type": "stream",
     "text": [
      "https://mops.twse.com.tw/server-java/t164sb01?step=1&CO_ID=1304&SYEAR=2017&SSEASON=4&REPORT_ID=C\n",
      "**WARRN: requests cannot get stock 1304 .html\n"
     ]
    },
    {
     "name": "stderr",
     "output_type": "stream",
     "text": []
    },
    {
     "name": "stdout",
     "output_type": "stream",
     "text": [
      "https://mops.twse.com.tw/server-java/t164sb01?step=1&CO_ID=1305&SYEAR=2017&SSEASON=4&REPORT_ID=C\n",
      "**WARRN: requests cannot get stock 1305 .html\n"
     ]
    },
    {
     "name": "stderr",
     "output_type": "stream",
     "text": []
    },
    {
     "name": "stdout",
     "output_type": "stream",
     "text": [
      "https://mops.twse.com.tw/server-java/t164sb01?step=1&CO_ID=1307&SYEAR=2017&SSEASON=4&REPORT_ID=C\n",
      "**WARRN: requests cannot get stock 1307 .html\n"
     ]
    },
    {
     "name": "stderr",
     "output_type": "stream",
     "text": []
    },
    {
     "name": "stdout",
     "output_type": "stream",
     "text": [
      "https://mops.twse.com.tw/server-java/t164sb01?step=1&CO_ID=1308&SYEAR=2017&SSEASON=4&REPORT_ID=C\n",
      "**WARRN: requests cannot get stock 1308 .html\n"
     ]
    },
    {
     "name": "stderr",
     "output_type": "stream",
     "text": []
    },
    {
     "name": "stdout",
     "output_type": "stream",
     "text": [
      "https://mops.twse.com.tw/server-java/t164sb01?step=1&CO_ID=1309&SYEAR=2017&SSEASON=4&REPORT_ID=C\n",
      "**WARRN: requests cannot get stock 1309 .html\n"
     ]
    },
    {
     "name": "stderr",
     "output_type": "stream",
     "text": []
    },
    {
     "name": "stdout",
     "output_type": "stream",
     "text": [
      "https://mops.twse.com.tw/server-java/t164sb01?step=1&CO_ID=1310&SYEAR=2017&SSEASON=4&REPORT_ID=C\n",
      "**WARRN: requests cannot get stock 1310 .html\n"
     ]
    },
    {
     "name": "stderr",
     "output_type": "stream",
     "text": []
    },
    {
     "name": "stdout",
     "output_type": "stream",
     "text": [
      "https://mops.twse.com.tw/server-java/t164sb01?step=1&CO_ID=1312&SYEAR=2017&SSEASON=4&REPORT_ID=C\n",
      "**WARRN: requests cannot get stock 1312 .html\n"
     ]
    },
    {
     "name": "stderr",
     "output_type": "stream",
     "text": []
    },
    {
     "name": "stdout",
     "output_type": "stream",
     "text": [
      "https://mops.twse.com.tw/server-java/t164sb01?step=1&CO_ID=1313&SYEAR=2017&SSEASON=4&REPORT_ID=C\n",
      "**WARRN: requests cannot get stock 1313 .html\n"
     ]
    },
    {
     "name": "stderr",
     "output_type": "stream",
     "text": []
    },
    {
     "name": "stdout",
     "output_type": "stream",
     "text": [
      "https://mops.twse.com.tw/server-java/t164sb01?step=1&CO_ID=1314&SYEAR=2017&SSEASON=4&REPORT_ID=C\n",
      "**WARRN: requests cannot get stock 1314 .html\n"
     ]
    },
    {
     "name": "stderr",
     "output_type": "stream",
     "text": []
    },
    {
     "name": "stdout",
     "output_type": "stream",
     "text": [
      "https://mops.twse.com.tw/server-java/t164sb01?step=1&CO_ID=1315&SYEAR=2017&SSEASON=4&REPORT_ID=C\n",
      "**WARRN: requests cannot get stock 1315 .html\n"
     ]
    },
    {
     "name": "stderr",
     "output_type": "stream",
     "text": []
    },
    {
     "name": "stdout",
     "output_type": "stream",
     "text": [
      "https://mops.twse.com.tw/server-java/t164sb01?step=1&CO_ID=1316&SYEAR=2017&SSEASON=4&REPORT_ID=C\n",
      "**WARRN: requests cannot get stock 1316 .html\n"
     ]
    },
    {
     "name": "stderr",
     "output_type": "stream",
     "text": []
    },
    {
     "name": "stdout",
     "output_type": "stream",
     "text": [
      "https://mops.twse.com.tw/server-java/t164sb01?step=1&CO_ID=1319&SYEAR=2017&SSEASON=4&REPORT_ID=C\n",
      "**WARRN: requests cannot get stock 1319 .html\n"
     ]
    },
    {
     "name": "stderr",
     "output_type": "stream",
     "text": []
    },
    {
     "name": "stdout",
     "output_type": "stream",
     "text": [
      "https://mops.twse.com.tw/server-java/t164sb01?step=1&CO_ID=1321&SYEAR=2017&SSEASON=4&REPORT_ID=C\n",
      "**WARRN: requests cannot get stock 1321 .html\n"
     ]
    },
    {
     "name": "stderr",
     "output_type": "stream",
     "text": []
    },
    {
     "name": "stdout",
     "output_type": "stream",
     "text": [
      "https://mops.twse.com.tw/server-java/t164sb01?step=1&CO_ID=1323&SYEAR=2017&SSEASON=4&REPORT_ID=C\n",
      "**WARRN: requests cannot get stock 1323 .html\n"
     ]
    },
    {
     "name": "stderr",
     "output_type": "stream",
     "text": []
    },
    {
     "name": "stdout",
     "output_type": "stream",
     "text": [
      "https://mops.twse.com.tw/server-java/t164sb01?step=1&CO_ID=1324&SYEAR=2017&SSEASON=4&REPORT_ID=C\n",
      "**WARRN: requests cannot get stock 1324 .html\n"
     ]
    },
    {
     "name": "stderr",
     "output_type": "stream",
     "text": []
    },
    {
     "name": "stdout",
     "output_type": "stream",
     "text": [
      "https://mops.twse.com.tw/server-java/t164sb01?step=1&CO_ID=1325&SYEAR=2017&SSEASON=4&REPORT_ID=C\n",
      "**WARRN: requests cannot get stock 1325 .html\n"
     ]
    },
    {
     "name": "stderr",
     "output_type": "stream",
     "text": []
    },
    {
     "name": "stdout",
     "output_type": "stream",
     "text": [
      "https://mops.twse.com.tw/server-java/t164sb01?step=1&CO_ID=1326&SYEAR=2017&SSEASON=4&REPORT_ID=C\n",
      "**WARRN: requests cannot get stock 1326 .html\n"
     ]
    },
    {
     "name": "stderr",
     "output_type": "stream",
     "text": []
    },
    {
     "name": "stdout",
     "output_type": "stream",
     "text": [
      "https://mops.twse.com.tw/server-java/t164sb01?step=1&CO_ID=1337&SYEAR=2017&SSEASON=4&REPORT_ID=C\n",
      "**WARRN: requests cannot get stock 1337 .html\n"
     ]
    },
    {
     "name": "stderr",
     "output_type": "stream",
     "text": []
    },
    {
     "name": "stdout",
     "output_type": "stream",
     "text": [
      "https://mops.twse.com.tw/server-java/t164sb01?step=1&CO_ID=1338&SYEAR=2017&SSEASON=4&REPORT_ID=C\n",
      "**WARRN: requests cannot get stock 1338 .html\n"
     ]
    },
    {
     "name": "stderr",
     "output_type": "stream",
     "text": []
    },
    {
     "name": "stdout",
     "output_type": "stream",
     "text": [
      "https://mops.twse.com.tw/server-java/t164sb01?step=1&CO_ID=1339&SYEAR=2017&SSEASON=4&REPORT_ID=C\n",
      "**WARRN: requests cannot get stock 1339 .html\n"
     ]
    },
    {
     "name": "stderr",
     "output_type": "stream",
     "text": []
    },
    {
     "name": "stdout",
     "output_type": "stream",
     "text": [
      "https://mops.twse.com.tw/server-java/t164sb01?step=1&CO_ID=1340&SYEAR=2017&SSEASON=4&REPORT_ID=C\n",
      "**WARRN: requests cannot get stock 1340 .html\n"
     ]
    },
    {
     "name": "stderr",
     "output_type": "stream",
     "text": []
    },
    {
     "name": "stdout",
     "output_type": "stream",
     "text": [
      "https://mops.twse.com.tw/server-java/t164sb01?step=1&CO_ID=1402&SYEAR=2017&SSEASON=4&REPORT_ID=C\n",
      "**WARRN: requests cannot get stock 1402 .html\n"
     ]
    },
    {
     "name": "stderr",
     "output_type": "stream",
     "text": []
    },
    {
     "name": "stdout",
     "output_type": "stream",
     "text": [
      "https://mops.twse.com.tw/server-java/t164sb01?step=1&CO_ID=1409&SYEAR=2017&SSEASON=4&REPORT_ID=C\n",
      "**WARRN: requests cannot get stock 1409 .html\n"
     ]
    },
    {
     "name": "stderr",
     "output_type": "stream",
     "text": []
    },
    {
     "name": "stdout",
     "output_type": "stream",
     "text": [
      "https://mops.twse.com.tw/server-java/t164sb01?step=1&CO_ID=1410&SYEAR=2017&SSEASON=4&REPORT_ID=C\n",
      "**WARRN: requests cannot get stock 1410 .html\n"
     ]
    },
    {
     "name": "stderr",
     "output_type": "stream",
     "text": []
    },
    {
     "name": "stdout",
     "output_type": "stream",
     "text": [
      "https://mops.twse.com.tw/server-java/t164sb01?step=1&CO_ID=1413&SYEAR=2017&SSEASON=4&REPORT_ID=C\n",
      "**WARRN: requests cannot get stock 1413 .html\n"
     ]
    },
    {
     "name": "stderr",
     "output_type": "stream",
     "text": []
    },
    {
     "name": "stdout",
     "output_type": "stream",
     "text": [
      "https://mops.twse.com.tw/server-java/t164sb01?step=1&CO_ID=1414&SYEAR=2017&SSEASON=4&REPORT_ID=C\n",
      "**WARRN: requests cannot get stock 1414 .html\n"
     ]
    },
    {
     "name": "stderr",
     "output_type": "stream",
     "text": []
    },
    {
     "name": "stdout",
     "output_type": "stream",
     "text": [
      "https://mops.twse.com.tw/server-java/t164sb01?step=1&CO_ID=1416&SYEAR=2017&SSEASON=4&REPORT_ID=C\n",
      "**WARRN: requests cannot get stock 1416 .html\n"
     ]
    },
    {
     "name": "stderr",
     "output_type": "stream",
     "text": []
    },
    {
     "name": "stdout",
     "output_type": "stream",
     "text": [
      "https://mops.twse.com.tw/server-java/t164sb01?step=1&CO_ID=1417&SYEAR=2017&SSEASON=4&REPORT_ID=C\n",
      "**WARRN: requests cannot get stock 1417 .html\n"
     ]
    },
    {
     "name": "stderr",
     "output_type": "stream",
     "text": []
    },
    {
     "name": "stdout",
     "output_type": "stream",
     "text": [
      "https://mops.twse.com.tw/server-java/t164sb01?step=1&CO_ID=1418&SYEAR=2017&SSEASON=4&REPORT_ID=C\n",
      "**WARRN: requests cannot get stock 1418 .html\n"
     ]
    },
    {
     "name": "stderr",
     "output_type": "stream",
     "text": []
    },
    {
     "name": "stdout",
     "output_type": "stream",
     "text": [
      "https://mops.twse.com.tw/server-java/t164sb01?step=1&CO_ID=1419&SYEAR=2017&SSEASON=4&REPORT_ID=C\n",
      "**WARRN: requests cannot get stock 1419 .html\n"
     ]
    },
    {
     "name": "stderr",
     "output_type": "stream",
     "text": []
    },
    {
     "name": "stdout",
     "output_type": "stream",
     "text": [
      "https://mops.twse.com.tw/server-java/t164sb01?step=1&CO_ID=1423&SYEAR=2017&SSEASON=4&REPORT_ID=C\n",
      "**WARRN: requests cannot get stock 1423 .html\n"
     ]
    },
    {
     "name": "stderr",
     "output_type": "stream",
     "text": []
    },
    {
     "name": "stdout",
     "output_type": "stream",
     "text": [
      "https://mops.twse.com.tw/server-java/t164sb01?step=1&CO_ID=1432&SYEAR=2017&SSEASON=4&REPORT_ID=C\n",
      "**WARRN: requests cannot get stock 1432 .html\n"
     ]
    },
    {
     "name": "stderr",
     "output_type": "stream",
     "text": []
    },
    {
     "name": "stdout",
     "output_type": "stream",
     "text": [
      "https://mops.twse.com.tw/server-java/t164sb01?step=1&CO_ID=1434&SYEAR=2017&SSEASON=4&REPORT_ID=C\n",
      "**WARRN: requests cannot get stock 1434 .html\n"
     ]
    },
    {
     "name": "stderr",
     "output_type": "stream",
     "text": []
    },
    {
     "name": "stdout",
     "output_type": "stream",
     "text": [
      "https://mops.twse.com.tw/server-java/t164sb01?step=1&CO_ID=1435&SYEAR=2017&SSEASON=4&REPORT_ID=C\n",
      "**WARRN: requests cannot get stock 1435 .html\n"
     ]
    },
    {
     "name": "stderr",
     "output_type": "stream",
     "text": []
    },
    {
     "name": "stdout",
     "output_type": "stream",
     "text": [
      "https://mops.twse.com.tw/server-java/t164sb01?step=1&CO_ID=1436&SYEAR=2017&SSEASON=4&REPORT_ID=C\n",
      "**WARRN: requests cannot get stock 1436 .html\n"
     ]
    },
    {
     "name": "stderr",
     "output_type": "stream",
     "text": []
    },
    {
     "name": "stdout",
     "output_type": "stream",
     "text": [
      "https://mops.twse.com.tw/server-java/t164sb01?step=1&CO_ID=1437&SYEAR=2017&SSEASON=4&REPORT_ID=C\n",
      "**WARRN: requests cannot get stock 1437 .html\n"
     ]
    },
    {
     "name": "stderr",
     "output_type": "stream",
     "text": []
    },
    {
     "name": "stdout",
     "output_type": "stream",
     "text": [
      "https://mops.twse.com.tw/server-java/t164sb01?step=1&CO_ID=1438&SYEAR=2017&SSEASON=4&REPORT_ID=C\n",
      "**WARRN: requests cannot get stock 1438 .html\n"
     ]
    },
    {
     "name": "stderr",
     "output_type": "stream",
     "text": []
    },
    {
     "name": "stdout",
     "output_type": "stream",
     "text": [
      "https://mops.twse.com.tw/server-java/t164sb01?step=1&CO_ID=1439&SYEAR=2017&SSEASON=4&REPORT_ID=C\n",
      "**WARRN: requests cannot get stock 1439 .html\n"
     ]
    },
    {
     "name": "stderr",
     "output_type": "stream",
     "text": []
    },
    {
     "name": "stdout",
     "output_type": "stream",
     "text": [
      "https://mops.twse.com.tw/server-java/t164sb01?step=1&CO_ID=1440&SYEAR=2017&SSEASON=4&REPORT_ID=C\n",
      "**WARRN: requests cannot get stock 1440 .html\n"
     ]
    },
    {
     "name": "stderr",
     "output_type": "stream",
     "text": []
    },
    {
     "name": "stdout",
     "output_type": "stream",
     "text": [
      "https://mops.twse.com.tw/server-java/t164sb01?step=1&CO_ID=1441&SYEAR=2017&SSEASON=4&REPORT_ID=C\n",
      "**WARRN: requests cannot get stock 1441 .html\n"
     ]
    },
    {
     "name": "stderr",
     "output_type": "stream",
     "text": []
    },
    {
     "name": "stdout",
     "output_type": "stream",
     "text": [
      "https://mops.twse.com.tw/server-java/t164sb01?step=1&CO_ID=1442&SYEAR=2017&SSEASON=4&REPORT_ID=C\n",
      "**WARRN: requests cannot get stock 1442 .html\n"
     ]
    },
    {
     "name": "stderr",
     "output_type": "stream",
     "text": []
    },
    {
     "name": "stdout",
     "output_type": "stream",
     "text": [
      "https://mops.twse.com.tw/server-java/t164sb01?step=1&CO_ID=1443&SYEAR=2017&SSEASON=4&REPORT_ID=C\n",
      "**WARRN: requests cannot get stock 1443 .html\n"
     ]
    },
    {
     "name": "stderr",
     "output_type": "stream",
     "text": []
    },
    {
     "name": "stdout",
     "output_type": "stream",
     "text": [
      "https://mops.twse.com.tw/server-java/t164sb01?step=1&CO_ID=1444&SYEAR=2017&SSEASON=4&REPORT_ID=C\n",
      "**WARRN: requests cannot get stock 1444 .html\n"
     ]
    },
    {
     "name": "stderr",
     "output_type": "stream",
     "text": []
    },
    {
     "name": "stdout",
     "output_type": "stream",
     "text": [
      "https://mops.twse.com.tw/server-java/t164sb01?step=1&CO_ID=1445&SYEAR=2017&SSEASON=4&REPORT_ID=C\n",
      "**WARRN: requests cannot get stock 1445 .html\n"
     ]
    },
    {
     "name": "stderr",
     "output_type": "stream",
     "text": []
    },
    {
     "name": "stdout",
     "output_type": "stream",
     "text": [
      "https://mops.twse.com.tw/server-java/t164sb01?step=1&CO_ID=1446&SYEAR=2017&SSEASON=4&REPORT_ID=C\n",
      "**WARRN: requests cannot get stock 1446 .html\n"
     ]
    },
    {
     "name": "stderr",
     "output_type": "stream",
     "text": []
    },
    {
     "name": "stdout",
     "output_type": "stream",
     "text": [
      "https://mops.twse.com.tw/server-java/t164sb01?step=1&CO_ID=1447&SYEAR=2017&SSEASON=4&REPORT_ID=C\n",
      "**WARRN: requests cannot get stock 1447 .html\n"
     ]
    },
    {
     "name": "stderr",
     "output_type": "stream",
     "text": []
    },
    {
     "name": "stdout",
     "output_type": "stream",
     "text": [
      "https://mops.twse.com.tw/server-java/t164sb01?step=1&CO_ID=1449&SYEAR=2017&SSEASON=4&REPORT_ID=C\n",
      "**WARRN: requests cannot get stock 1449 .html\n"
     ]
    },
    {
     "name": "stderr",
     "output_type": "stream",
     "text": []
    },
    {
     "name": "stdout",
     "output_type": "stream",
     "text": [
      "https://mops.twse.com.tw/server-java/t164sb01?step=1&CO_ID=1451&SYEAR=2017&SSEASON=4&REPORT_ID=C\n",
      "**WARRN: requests cannot get stock 1451 .html\n"
     ]
    },
    {
     "name": "stderr",
     "output_type": "stream",
     "text": []
    },
    {
     "name": "stdout",
     "output_type": "stream",
     "text": [
      "https://mops.twse.com.tw/server-java/t164sb01?step=1&CO_ID=1452&SYEAR=2017&SSEASON=4&REPORT_ID=C\n",
      "**WARRN: requests cannot get stock 1452 .html\n"
     ]
    },
    {
     "name": "stderr",
     "output_type": "stream",
     "text": []
    },
    {
     "name": "stdout",
     "output_type": "stream",
     "text": [
      "https://mops.twse.com.tw/server-java/t164sb01?step=1&CO_ID=1453&SYEAR=2017&SSEASON=4&REPORT_ID=C\n",
      "**WARRN: requests cannot get stock 1453 .html\n"
     ]
    },
    {
     "name": "stderr",
     "output_type": "stream",
     "text": []
    },
    {
     "name": "stdout",
     "output_type": "stream",
     "text": [
      "https://mops.twse.com.tw/server-java/t164sb01?step=1&CO_ID=1454&SYEAR=2017&SSEASON=4&REPORT_ID=C\n",
      "**WARRN: requests cannot get stock 1454 .html\n"
     ]
    },
    {
     "name": "stderr",
     "output_type": "stream",
     "text": []
    },
    {
     "name": "stdout",
     "output_type": "stream",
     "text": [
      "https://mops.twse.com.tw/server-java/t164sb01?step=1&CO_ID=1455&SYEAR=2017&SSEASON=4&REPORT_ID=C\n",
      "**WARRN: requests cannot get stock 1455 .html\n"
     ]
    },
    {
     "name": "stderr",
     "output_type": "stream",
     "text": []
    },
    {
     "name": "stdout",
     "output_type": "stream",
     "text": [
      "https://mops.twse.com.tw/server-java/t164sb01?step=1&CO_ID=1456&SYEAR=2017&SSEASON=4&REPORT_ID=C\n",
      "**WARRN: requests cannot get stock 1456 .html\n"
     ]
    },
    {
     "name": "stderr",
     "output_type": "stream",
     "text": []
    },
    {
     "name": "stdout",
     "output_type": "stream",
     "text": [
      "https://mops.twse.com.tw/server-java/t164sb01?step=1&CO_ID=1457&SYEAR=2017&SSEASON=4&REPORT_ID=C\n",
      "**WARRN: requests cannot get stock 1457 .html\n"
     ]
    },
    {
     "name": "stderr",
     "output_type": "stream",
     "text": []
    },
    {
     "name": "stdout",
     "output_type": "stream",
     "text": [
      "https://mops.twse.com.tw/server-java/t164sb01?step=1&CO_ID=1459&SYEAR=2017&SSEASON=4&REPORT_ID=C\n",
      "**WARRN: requests cannot get stock 1459 .html\n"
     ]
    },
    {
     "name": "stderr",
     "output_type": "stream",
     "text": []
    },
    {
     "name": "stdout",
     "output_type": "stream",
     "text": [
      "https://mops.twse.com.tw/server-java/t164sb01?step=1&CO_ID=1460&SYEAR=2017&SSEASON=4&REPORT_ID=C\n",
      "**WARRN: requests cannot get stock 1460 .html\n"
     ]
    },
    {
     "name": "stderr",
     "output_type": "stream",
     "text": []
    },
    {
     "name": "stdout",
     "output_type": "stream",
     "text": [
      "https://mops.twse.com.tw/server-java/t164sb01?step=1&CO_ID=1463&SYEAR=2017&SSEASON=4&REPORT_ID=C\n",
      "**WARRN: requests cannot get stock 1463 .html\n"
     ]
    },
    {
     "name": "stderr",
     "output_type": "stream",
     "text": []
    },
    {
     "name": "stdout",
     "output_type": "stream",
     "text": [
      "https://mops.twse.com.tw/server-java/t164sb01?step=1&CO_ID=1464&SYEAR=2017&SSEASON=4&REPORT_ID=C\n",
      "**WARRN: requests cannot get stock 1464 .html\n"
     ]
    },
    {
     "name": "stderr",
     "output_type": "stream",
     "text": []
    },
    {
     "name": "stdout",
     "output_type": "stream",
     "text": [
      "https://mops.twse.com.tw/server-java/t164sb01?step=1&CO_ID=1465&SYEAR=2017&SSEASON=4&REPORT_ID=C\n",
      "**WARRN: requests cannot get stock 1465 .html\n"
     ]
    },
    {
     "name": "stderr",
     "output_type": "stream",
     "text": []
    },
    {
     "name": "stdout",
     "output_type": "stream",
     "text": [
      "https://mops.twse.com.tw/server-java/t164sb01?step=1&CO_ID=1466&SYEAR=2017&SSEASON=4&REPORT_ID=C\n",
      "**WARRN: requests cannot get stock 1466 .html\n"
     ]
    },
    {
     "name": "stderr",
     "output_type": "stream",
     "text": []
    },
    {
     "name": "stdout",
     "output_type": "stream",
     "text": [
      "https://mops.twse.com.tw/server-java/t164sb01?step=1&CO_ID=1467&SYEAR=2017&SSEASON=4&REPORT_ID=C\n",
      "**WARRN: requests cannot get stock 1467 .html\n"
     ]
    },
    {
     "name": "stderr",
     "output_type": "stream",
     "text": []
    },
    {
     "name": "stdout",
     "output_type": "stream",
     "text": [
      "https://mops.twse.com.tw/server-java/t164sb01?step=1&CO_ID=1468&SYEAR=2017&SSEASON=4&REPORT_ID=C\n",
      "**WARRN: requests cannot get stock 1468 .html\n"
     ]
    },
    {
     "name": "stderr",
     "output_type": "stream",
     "text": []
    },
    {
     "name": "stdout",
     "output_type": "stream",
     "text": [
      "https://mops.twse.com.tw/server-java/t164sb01?step=1&CO_ID=1470&SYEAR=2017&SSEASON=4&REPORT_ID=C\n",
      "**WARRN: requests cannot get stock 1470 .html\n"
     ]
    },
    {
     "name": "stderr",
     "output_type": "stream",
     "text": []
    },
    {
     "name": "stdout",
     "output_type": "stream",
     "text": [
      "https://mops.twse.com.tw/server-java/t164sb01?step=1&CO_ID=1471&SYEAR=2017&SSEASON=4&REPORT_ID=C\n",
      "**WARRN: requests cannot get stock 1471 .html\n"
     ]
    },
    {
     "name": "stderr",
     "output_type": "stream",
     "text": []
    },
    {
     "name": "stdout",
     "output_type": "stream",
     "text": [
      "https://mops.twse.com.tw/server-java/t164sb01?step=1&CO_ID=1472&SYEAR=2017&SSEASON=4&REPORT_ID=C\n",
      "**WARRN: requests cannot get stock 1472 .html\n"
     ]
    },
    {
     "name": "stderr",
     "output_type": "stream",
     "text": []
    },
    {
     "name": "stdout",
     "output_type": "stream",
     "text": [
      "https://mops.twse.com.tw/server-java/t164sb01?step=1&CO_ID=1473&SYEAR=2017&SSEASON=4&REPORT_ID=C\n",
      "**WARRN: requests cannot get stock 1473 .html\n"
     ]
    },
    {
     "name": "stderr",
     "output_type": "stream",
     "text": []
    },
    {
     "name": "stdout",
     "output_type": "stream",
     "text": [
      "https://mops.twse.com.tw/server-java/t164sb01?step=1&CO_ID=1474&SYEAR=2017&SSEASON=4&REPORT_ID=C\n",
      "**WARRN: requests cannot get stock 1474 .html\n"
     ]
    },
    {
     "name": "stderr",
     "output_type": "stream",
     "text": []
    },
    {
     "name": "stdout",
     "output_type": "stream",
     "text": [
      "https://mops.twse.com.tw/server-java/t164sb01?step=1&CO_ID=1475&SYEAR=2017&SSEASON=4&REPORT_ID=C\n",
      "**WARRN: requests cannot get stock 1475 .html\n"
     ]
    },
    {
     "name": "stderr",
     "output_type": "stream",
     "text": []
    },
    {
     "name": "stdout",
     "output_type": "stream",
     "text": [
      "https://mops.twse.com.tw/server-java/t164sb01?step=1&CO_ID=1476&SYEAR=2017&SSEASON=4&REPORT_ID=C\n",
      "**WARRN: requests cannot get stock 1476 .html\n"
     ]
    },
    {
     "name": "stderr",
     "output_type": "stream",
     "text": []
    },
    {
     "name": "stdout",
     "output_type": "stream",
     "text": [
      "https://mops.twse.com.tw/server-java/t164sb01?step=1&CO_ID=1477&SYEAR=2017&SSEASON=4&REPORT_ID=C\n",
      "**WARRN: requests cannot get stock 1477 .html\n"
     ]
    },
    {
     "name": "stderr",
     "output_type": "stream",
     "text": []
    },
    {
     "name": "stdout",
     "output_type": "stream",
     "text": [
      "https://mops.twse.com.tw/server-java/t164sb01?step=1&CO_ID=1503&SYEAR=2017&SSEASON=4&REPORT_ID=C\n",
      "**WARRN: requests cannot get stock 1503 .html\n"
     ]
    },
    {
     "name": "stderr",
     "output_type": "stream",
     "text": []
    },
    {
     "name": "stdout",
     "output_type": "stream",
     "text": [
      "https://mops.twse.com.tw/server-java/t164sb01?step=1&CO_ID=1504&SYEAR=2017&SSEASON=4&REPORT_ID=C\n",
      "**WARRN: requests cannot get stock 1504 .html\n"
     ]
    },
    {
     "name": "stderr",
     "output_type": "stream",
     "text": []
    },
    {
     "name": "stdout",
     "output_type": "stream",
     "text": [
      "https://mops.twse.com.tw/server-java/t164sb01?step=1&CO_ID=1506&SYEAR=2017&SSEASON=4&REPORT_ID=C\n",
      "**WARRN: requests cannot get stock 1506 .html\n"
     ]
    },
    {
     "name": "stderr",
     "output_type": "stream",
     "text": []
    },
    {
     "name": "stdout",
     "output_type": "stream",
     "text": [
      "https://mops.twse.com.tw/server-java/t164sb01?step=1&CO_ID=1512&SYEAR=2017&SSEASON=4&REPORT_ID=C\n",
      "**WARRN: requests cannot get stock 1512 .html\n"
     ]
    },
    {
     "name": "stderr",
     "output_type": "stream",
     "text": []
    },
    {
     "name": "stdout",
     "output_type": "stream",
     "text": [
      "https://mops.twse.com.tw/server-java/t164sb01?step=1&CO_ID=1513&SYEAR=2017&SSEASON=4&REPORT_ID=C\n",
      "**WARRN: requests cannot get stock 1513 .html\n"
     ]
    },
    {
     "name": "stderr",
     "output_type": "stream",
     "text": []
    },
    {
     "name": "stdout",
     "output_type": "stream",
     "text": [
      "https://mops.twse.com.tw/server-java/t164sb01?step=1&CO_ID=1514&SYEAR=2017&SSEASON=4&REPORT_ID=C\n",
      "**WARRN: requests cannot get stock 1514 .html\n"
     ]
    },
    {
     "name": "stderr",
     "output_type": "stream",
     "text": []
    },
    {
     "name": "stdout",
     "output_type": "stream",
     "text": [
      "https://mops.twse.com.tw/server-java/t164sb01?step=1&CO_ID=1515&SYEAR=2017&SSEASON=4&REPORT_ID=C\n",
      "**WARRN: requests cannot get stock 1515 .html\n"
     ]
    },
    {
     "name": "stderr",
     "output_type": "stream",
     "text": []
    },
    {
     "name": "stdout",
     "output_type": "stream",
     "text": [
      "https://mops.twse.com.tw/server-java/t164sb01?step=1&CO_ID=1516&SYEAR=2017&SSEASON=4&REPORT_ID=C\n",
      "**WARRN: requests cannot get stock 1516 .html\n"
     ]
    },
    {
     "name": "stderr",
     "output_type": "stream",
     "text": []
    },
    {
     "name": "stdout",
     "output_type": "stream",
     "text": [
      "https://mops.twse.com.tw/server-java/t164sb01?step=1&CO_ID=1517&SYEAR=2017&SSEASON=4&REPORT_ID=C\n",
      "**WARRN: requests cannot get stock 1517 .html\n"
     ]
    },
    {
     "name": "stderr",
     "output_type": "stream",
     "text": []
    },
    {
     "name": "stdout",
     "output_type": "stream",
     "text": [
      "https://mops.twse.com.tw/server-java/t164sb01?step=1&CO_ID=1519&SYEAR=2017&SSEASON=4&REPORT_ID=C\n",
      "**WARRN: requests cannot get stock 1519 .html\n"
     ]
    },
    {
     "name": "stderr",
     "output_type": "stream",
     "text": []
    },
    {
     "name": "stdout",
     "output_type": "stream",
     "text": [
      "https://mops.twse.com.tw/server-java/t164sb01?step=1&CO_ID=1521&SYEAR=2017&SSEASON=4&REPORT_ID=C\n",
      "**WARRN: requests cannot get stock 1521 .html\n"
     ]
    },
    {
     "name": "stderr",
     "output_type": "stream",
     "text": []
    },
    {
     "name": "stdout",
     "output_type": "stream",
     "text": [
      "https://mops.twse.com.tw/server-java/t164sb01?step=1&CO_ID=1522&SYEAR=2017&SSEASON=4&REPORT_ID=C\n",
      "**WARRN: requests cannot get stock 1522 .html\n"
     ]
    },
    {
     "name": "stderr",
     "output_type": "stream",
     "text": []
    },
    {
     "name": "stdout",
     "output_type": "stream",
     "text": [
      "https://mops.twse.com.tw/server-java/t164sb01?step=1&CO_ID=1524&SYEAR=2017&SSEASON=4&REPORT_ID=C\n",
      "**WARRN: requests cannot get stock 1524 .html\n"
     ]
    },
    {
     "name": "stderr",
     "output_type": "stream",
     "text": []
    },
    {
     "name": "stdout",
     "output_type": "stream",
     "text": [
      "https://mops.twse.com.tw/server-java/t164sb01?step=1&CO_ID=1525&SYEAR=2017&SSEASON=4&REPORT_ID=C\n",
      "**WARRN: requests cannot get stock 1525 .html\n"
     ]
    },
    {
     "name": "stderr",
     "output_type": "stream",
     "text": []
    },
    {
     "name": "stdout",
     "output_type": "stream",
     "text": [
      "https://mops.twse.com.tw/server-java/t164sb01?step=1&CO_ID=1526&SYEAR=2017&SSEASON=4&REPORT_ID=C\n",
      "**WARRN: requests cannot get stock 1526 .html\n"
     ]
    },
    {
     "name": "stderr",
     "output_type": "stream",
     "text": []
    },
    {
     "name": "stdout",
     "output_type": "stream",
     "text": [
      "https://mops.twse.com.tw/server-java/t164sb01?step=1&CO_ID=1527&SYEAR=2017&SSEASON=4&REPORT_ID=C\n",
      "**WARRN: requests cannot get stock 1527 .html\n"
     ]
    },
    {
     "name": "stderr",
     "output_type": "stream",
     "text": []
    },
    {
     "name": "stdout",
     "output_type": "stream",
     "text": [
      "https://mops.twse.com.tw/server-java/t164sb01?step=1&CO_ID=1528&SYEAR=2017&SSEASON=4&REPORT_ID=C\n",
      "**WARRN: requests cannot get stock 1528 .html\n"
     ]
    },
    {
     "name": "stderr",
     "output_type": "stream",
     "text": []
    },
    {
     "name": "stdout",
     "output_type": "stream",
     "text": [
      "https://mops.twse.com.tw/server-java/t164sb01?step=1&CO_ID=1529&SYEAR=2017&SSEASON=4&REPORT_ID=C\n",
      "**WARRN: requests cannot get stock 1529 .html\n"
     ]
    },
    {
     "name": "stderr",
     "output_type": "stream",
     "text": []
    },
    {
     "name": "stdout",
     "output_type": "stream",
     "text": [
      "https://mops.twse.com.tw/server-java/t164sb01?step=1&CO_ID=1530&SYEAR=2017&SSEASON=4&REPORT_ID=C\n",
      "**WARRN: requests cannot get stock 1530 .html\n"
     ]
    },
    {
     "name": "stderr",
     "output_type": "stream",
     "text": []
    },
    {
     "name": "stdout",
     "output_type": "stream",
     "text": [
      "https://mops.twse.com.tw/server-java/t164sb01?step=1&CO_ID=1531&SYEAR=2017&SSEASON=4&REPORT_ID=C\n",
      "**WARRN: requests cannot get stock 1531 .html\n"
     ]
    },
    {
     "name": "stderr",
     "output_type": "stream",
     "text": []
    },
    {
     "name": "stdout",
     "output_type": "stream",
     "text": [
      "https://mops.twse.com.tw/server-java/t164sb01?step=1&CO_ID=1532&SYEAR=2017&SSEASON=4&REPORT_ID=C\n",
      "**WARRN: requests cannot get stock 1532 .html\n"
     ]
    },
    {
     "name": "stderr",
     "output_type": "stream",
     "text": []
    },
    {
     "name": "stdout",
     "output_type": "stream",
     "text": [
      "https://mops.twse.com.tw/server-java/t164sb01?step=1&CO_ID=1533&SYEAR=2017&SSEASON=4&REPORT_ID=C\n",
      "**WARRN: requests cannot get stock 1533 .html\n"
     ]
    },
    {
     "name": "stderr",
     "output_type": "stream",
     "text": []
    },
    {
     "name": "stdout",
     "output_type": "stream",
     "text": [
      "https://mops.twse.com.tw/server-java/t164sb01?step=1&CO_ID=1535&SYEAR=2017&SSEASON=4&REPORT_ID=C\n",
      "**WARRN: requests cannot get stock 1535 .html\n"
     ]
    },
    {
     "name": "stderr",
     "output_type": "stream",
     "text": []
    },
    {
     "name": "stdout",
     "output_type": "stream",
     "text": [
      "https://mops.twse.com.tw/server-java/t164sb01?step=1&CO_ID=1536&SYEAR=2017&SSEASON=4&REPORT_ID=C\n",
      "**WARRN: requests cannot get stock 1536 .html\n"
     ]
    },
    {
     "name": "stderr",
     "output_type": "stream",
     "text": []
    },
    {
     "name": "stdout",
     "output_type": "stream",
     "text": [
      "https://mops.twse.com.tw/server-java/t164sb01?step=1&CO_ID=1537&SYEAR=2017&SSEASON=4&REPORT_ID=C\n",
      "**WARRN: requests cannot get stock 1537 .html\n"
     ]
    },
    {
     "name": "stderr",
     "output_type": "stream",
     "text": []
    },
    {
     "name": "stdout",
     "output_type": "stream",
     "text": [
      "https://mops.twse.com.tw/server-java/t164sb01?step=1&CO_ID=1538&SYEAR=2017&SSEASON=4&REPORT_ID=C\n",
      "**WARRN: requests cannot get stock 1538 .html\n"
     ]
    },
    {
     "name": "stderr",
     "output_type": "stream",
     "text": []
    },
    {
     "name": "stdout",
     "output_type": "stream",
     "text": [
      "https://mops.twse.com.tw/server-java/t164sb01?step=1&CO_ID=1539&SYEAR=2017&SSEASON=4&REPORT_ID=C\n",
      "**WARRN: requests cannot get stock 1539 .html\n"
     ]
    },
    {
     "name": "stderr",
     "output_type": "stream",
     "text": []
    },
    {
     "name": "stdout",
     "output_type": "stream",
     "text": [
      "https://mops.twse.com.tw/server-java/t164sb01?step=1&CO_ID=1540&SYEAR=2017&SSEASON=4&REPORT_ID=C\n",
      "**WARRN: requests cannot get stock 1540 .html\n"
     ]
    },
    {
     "name": "stderr",
     "output_type": "stream",
     "text": []
    },
    {
     "name": "stdout",
     "output_type": "stream",
     "text": [
      "https://mops.twse.com.tw/server-java/t164sb01?step=1&CO_ID=1541&SYEAR=2017&SSEASON=4&REPORT_ID=C\n",
      "**WARRN: requests cannot get stock 1541 .html\n"
     ]
    },
    {
     "name": "stderr",
     "output_type": "stream",
     "text": []
    },
    {
     "name": "stdout",
     "output_type": "stream",
     "text": [
      "https://mops.twse.com.tw/server-java/t164sb01?step=1&CO_ID=1558&SYEAR=2017&SSEASON=4&REPORT_ID=C\n",
      "**WARRN: requests cannot get stock 1558 .html\n"
     ]
    },
    {
     "name": "stderr",
     "output_type": "stream",
     "text": []
    },
    {
     "name": "stdout",
     "output_type": "stream",
     "text": [
      "https://mops.twse.com.tw/server-java/t164sb01?step=1&CO_ID=1560&SYEAR=2017&SSEASON=4&REPORT_ID=C\n",
      "**WARRN: requests cannot get stock 1560 .html\n"
     ]
    },
    {
     "name": "stderr",
     "output_type": "stream",
     "text": []
    },
    {
     "name": "stdout",
     "output_type": "stream",
     "text": [
      "https://mops.twse.com.tw/server-java/t164sb01?step=1&CO_ID=1568&SYEAR=2017&SSEASON=4&REPORT_ID=C\n",
      "**WARRN: requests cannot get stock 1568 .html\n"
     ]
    },
    {
     "name": "stderr",
     "output_type": "stream",
     "text": []
    },
    {
     "name": "stdout",
     "output_type": "stream",
     "text": [
      "https://mops.twse.com.tw/server-java/t164sb01?step=1&CO_ID=1582&SYEAR=2017&SSEASON=4&REPORT_ID=C\n",
      "**WARRN: requests cannot get stock 1582 .html\n"
     ]
    },
    {
     "name": "stderr",
     "output_type": "stream",
     "text": []
    },
    {
     "name": "stdout",
     "output_type": "stream",
     "text": [
      "https://mops.twse.com.tw/server-java/t164sb01?step=1&CO_ID=1583&SYEAR=2017&SSEASON=4&REPORT_ID=C\n",
      "**WARRN: requests cannot get stock 1583 .html\n"
     ]
    },
    {
     "name": "stderr",
     "output_type": "stream",
     "text": []
    },
    {
     "name": "stdout",
     "output_type": "stream",
     "text": [
      "https://mops.twse.com.tw/server-java/t164sb01?step=1&CO_ID=1587&SYEAR=2017&SSEASON=4&REPORT_ID=C\n",
      "**WARRN: requests cannot get stock 1587 .html\n"
     ]
    },
    {
     "name": "stderr",
     "output_type": "stream",
     "text": []
    },
    {
     "name": "stdout",
     "output_type": "stream",
     "text": [
      "https://mops.twse.com.tw/server-java/t164sb01?step=1&CO_ID=1589&SYEAR=2017&SSEASON=4&REPORT_ID=C\n",
      "**WARRN: requests cannot get stock 1589 .html\n"
     ]
    },
    {
     "name": "stderr",
     "output_type": "stream",
     "text": []
    },
    {
     "name": "stdout",
     "output_type": "stream",
     "text": [
      "https://mops.twse.com.tw/server-java/t164sb01?step=1&CO_ID=1590&SYEAR=2017&SSEASON=4&REPORT_ID=C\n",
      "**WARRN: requests cannot get stock 1590 .html\n"
     ]
    },
    {
     "name": "stderr",
     "output_type": "stream",
     "text": []
    },
    {
     "name": "stdout",
     "output_type": "stream",
     "text": [
      "https://mops.twse.com.tw/server-java/t164sb01?step=1&CO_ID=1597&SYEAR=2017&SSEASON=4&REPORT_ID=C\n",
      "**WARRN: requests cannot get stock 1597 .html\n"
     ]
    },
    {
     "name": "stderr",
     "output_type": "stream",
     "text": []
    },
    {
     "name": "stdout",
     "output_type": "stream",
     "text": [
      "https://mops.twse.com.tw/server-java/t164sb01?step=1&CO_ID=1598&SYEAR=2017&SSEASON=4&REPORT_ID=C\n",
      "**WARRN: requests cannot get stock 1598 .html\n"
     ]
    },
    {
     "name": "stderr",
     "output_type": "stream",
     "text": []
    },
    {
     "name": "stdout",
     "output_type": "stream",
     "text": [
      "https://mops.twse.com.tw/server-java/t164sb01?step=1&CO_ID=1603&SYEAR=2017&SSEASON=4&REPORT_ID=C\n",
      "**WARRN: requests cannot get stock 1603 .html\n"
     ]
    },
    {
     "name": "stderr",
     "output_type": "stream",
     "text": []
    },
    {
     "name": "stdout",
     "output_type": "stream",
     "text": [
      "https://mops.twse.com.tw/server-java/t164sb01?step=1&CO_ID=1604&SYEAR=2017&SSEASON=4&REPORT_ID=C\n",
      "**WARRN: requests cannot get stock 1604 .html\n"
     ]
    },
    {
     "name": "stderr",
     "output_type": "stream",
     "text": []
    },
    {
     "name": "stdout",
     "output_type": "stream",
     "text": [
      "https://mops.twse.com.tw/server-java/t164sb01?step=1&CO_ID=1605&SYEAR=2017&SSEASON=4&REPORT_ID=C\n",
      "**WARRN: requests cannot get stock 1605 .html\n"
     ]
    },
    {
     "name": "stderr",
     "output_type": "stream",
     "text": []
    },
    {
     "name": "stdout",
     "output_type": "stream",
     "text": [
      "https://mops.twse.com.tw/server-java/t164sb01?step=1&CO_ID=1608&SYEAR=2017&SSEASON=4&REPORT_ID=C\n",
      "**WARRN: requests cannot get stock 1608 .html\n"
     ]
    },
    {
     "name": "stderr",
     "output_type": "stream",
     "text": []
    },
    {
     "name": "stdout",
     "output_type": "stream",
     "text": [
      "https://mops.twse.com.tw/server-java/t164sb01?step=1&CO_ID=1609&SYEAR=2017&SSEASON=4&REPORT_ID=C\n",
      "**WARRN: requests cannot get stock 1609 .html\n"
     ]
    },
    {
     "name": "stderr",
     "output_type": "stream",
     "text": []
    },
    {
     "name": "stdout",
     "output_type": "stream",
     "text": [
      "https://mops.twse.com.tw/server-java/t164sb01?step=1&CO_ID=1611&SYEAR=2017&SSEASON=4&REPORT_ID=C\n",
      "**WARRN: requests cannot get stock 1611 .html\n"
     ]
    },
    {
     "name": "stderr",
     "output_type": "stream",
     "text": []
    },
    {
     "name": "stdout",
     "output_type": "stream",
     "text": [
      "https://mops.twse.com.tw/server-java/t164sb01?step=1&CO_ID=1612&SYEAR=2017&SSEASON=4&REPORT_ID=C\n",
      "**WARRN: requests cannot get stock 1612 .html\n"
     ]
    },
    {
     "name": "stderr",
     "output_type": "stream",
     "text": []
    },
    {
     "name": "stdout",
     "output_type": "stream",
     "text": [
      "https://mops.twse.com.tw/server-java/t164sb01?step=1&CO_ID=1614&SYEAR=2017&SSEASON=4&REPORT_ID=C\n",
      "**WARRN: requests cannot get stock 1614 .html\n"
     ]
    },
    {
     "name": "stderr",
     "output_type": "stream",
     "text": []
    },
    {
     "name": "stdout",
     "output_type": "stream",
     "text": [
      "https://mops.twse.com.tw/server-java/t164sb01?step=1&CO_ID=1615&SYEAR=2017&SSEASON=4&REPORT_ID=C\n",
      "**WARRN: requests cannot get stock 1615 .html\n"
     ]
    },
    {
     "name": "stderr",
     "output_type": "stream",
     "text": []
    },
    {
     "name": "stdout",
     "output_type": "stream",
     "text": [
      "https://mops.twse.com.tw/server-java/t164sb01?step=1&CO_ID=1616&SYEAR=2017&SSEASON=4&REPORT_ID=C\n",
      "**WARRN: requests cannot get stock 1616 .html\n"
     ]
    },
    {
     "name": "stderr",
     "output_type": "stream",
     "text": []
    },
    {
     "name": "stdout",
     "output_type": "stream",
     "text": [
      "https://mops.twse.com.tw/server-java/t164sb01?step=1&CO_ID=1617&SYEAR=2017&SSEASON=4&REPORT_ID=C\n",
      "**WARRN: requests cannot get stock 1617 .html\n"
     ]
    },
    {
     "name": "stderr",
     "output_type": "stream",
     "text": []
    },
    {
     "name": "stdout",
     "output_type": "stream",
     "text": [
      "https://mops.twse.com.tw/server-java/t164sb01?step=1&CO_ID=1618&SYEAR=2017&SSEASON=4&REPORT_ID=C\n",
      "**WARRN: requests cannot get stock 1618 .html\n"
     ]
    },
    {
     "name": "stderr",
     "output_type": "stream",
     "text": []
    },
    {
     "name": "stdout",
     "output_type": "stream",
     "text": [
      "https://mops.twse.com.tw/server-java/t164sb01?step=1&CO_ID=1626&SYEAR=2017&SSEASON=4&REPORT_ID=C\n",
      "**WARRN: requests cannot get stock 1626 .html\n"
     ]
    },
    {
     "name": "stderr",
     "output_type": "stream",
     "text": []
    },
    {
     "name": "stdout",
     "output_type": "stream",
     "text": [
      "https://mops.twse.com.tw/server-java/t164sb01?step=1&CO_ID=1701&SYEAR=2017&SSEASON=4&REPORT_ID=C\n",
      "**WARRN: requests cannot get stock 1701 .html\n"
     ]
    },
    {
     "name": "stderr",
     "output_type": "stream",
     "text": []
    },
    {
     "name": "stdout",
     "output_type": "stream",
     "text": [
      "https://mops.twse.com.tw/server-java/t164sb01?step=1&CO_ID=1702&SYEAR=2017&SSEASON=4&REPORT_ID=C\n",
      "**WARRN: requests cannot get stock 1702 .html\n"
     ]
    },
    {
     "name": "stderr",
     "output_type": "stream",
     "text": []
    },
    {
     "name": "stdout",
     "output_type": "stream",
     "text": [
      "https://mops.twse.com.tw/server-java/t164sb01?step=1&CO_ID=1707&SYEAR=2017&SSEASON=4&REPORT_ID=C\n",
      "**WARRN: requests cannot get stock 1707 .html\n"
     ]
    },
    {
     "name": "stderr",
     "output_type": "stream",
     "text": []
    },
    {
     "name": "stdout",
     "output_type": "stream",
     "text": [
      "https://mops.twse.com.tw/server-java/t164sb01?step=1&CO_ID=1708&SYEAR=2017&SSEASON=4&REPORT_ID=C\n",
      "**WARRN: requests cannot get stock 1708 .html\n"
     ]
    }
   ],
   "source": [
    "import datetime\n",
    "from finlab.crawler import update_table\n",
    "update_table(conn, 'price', crawl_price, [datetime.date(2018,3,26)])\n",
    "update_table(conn, 'monthly_revenue', crawl_monthly_report, [datetime.date(2018,3,1)])\n",
    "update_table(conn, 'finance_statement', crawl_finance_statement_by_date, [datetime.date(2018,3,31)])"
   ]
  }
 ],
 "metadata": {
  "kernelspec": {
   "display_name": "Python 3.9.12 ('base')",
   "language": "python",
   "name": "python3"
  },
  "language_info": {
   "codemirror_mode": {
    "name": "ipython",
    "version": 3
   },
   "file_extension": ".py",
   "mimetype": "text/x-python",
   "name": "python",
   "nbconvert_exporter": "python",
   "pygments_lexer": "ipython3",
   "version": "3.9.12"
  },
  "vscode": {
   "interpreter": {
    "hash": "e06c6dea1d58ab172c9060eb008467b5a6e5b460c4e8372b00ecf0425e80488b"
   }
  }
 },
 "nbformat": 4,
 "nbformat_minor": 2
}
