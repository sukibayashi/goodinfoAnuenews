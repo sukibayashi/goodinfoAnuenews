{
 "cells": [
  {
   "cell_type": "code",
   "execution_count": 1,
   "metadata": {},
   "outputs": [],
   "source": [
    "import email\n",
    "import time\n",
    "import webbrowser\n",
    "from datetime import datetime\n",
    "\n",
    "def checkTime():\n",
    "    global now\n",
    "    now = datetime.now()\n",
    "    now = now.strftime(\"%H%M\")\n",
    "\n",
    "def openWeb(url):\n",
    "    edge_path = \"C:\\Program Files (x86)\\Microsoft\\Edge\\Application\\msedge.exe\"\n",
    "    webbrowser.register('edge', None, webbrowser.BackgroundBrowser(edge_path))\n",
    "    webbrowser.get('edge').open(url)\n",
    "\n",
    "def getTokken(openTime,url):\n",
    "    checkTime()\n",
    "    while True:\n",
    "        if now>=openTime:\n",
    "            openWeb(url)\n",
    "            break\n",
    "\n",
    "if __name__ == \"__main__\":\n",
    "    checktime = \"0450\"\n",
    "    url = \"https://www.youtube.com/watch?v=s25lEPL0zCc\"\n",
    "\n",
    "    getTokken(checktime,url)\n"
   ]
  }
 ],
 "metadata": {
  "kernelspec": {
   "display_name": "Python 3.10.2 64-bit",
   "language": "python",
   "name": "python3"
  },
  "language_info": {
   "codemirror_mode": {
    "name": "ipython",
    "version": 3
   },
   "file_extension": ".py",
   "mimetype": "text/x-python",
   "name": "python",
   "nbconvert_exporter": "python",
   "pygments_lexer": "ipython3",
   "version": "3.10.2"
  },
  "orig_nbformat": 4,
  "vscode": {
   "interpreter": {
    "hash": "249b217207efd35510df6df6c5bc3ac1264f2831ad42f86f85785a097374ecd2"
   }
  }
 },
 "nbformat": 4,
 "nbformat_minor": 2
}
