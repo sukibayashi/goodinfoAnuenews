{
 "cells": [
  {
   "cell_type": "markdown",
   "metadata": {},
   "source": [
    "## Machine Learning\n",
    "\n",
    "Machine Learning is making the computer learn from studying data and statistics(統計學).\n",
    "\n",
    "Machine Learning is a step into the direction(方向) of artificial intelligence(AI).\n",
    "\n",
    "Machine Learning is a program that analyses data and learns to predict(預測) the outcome.\n",
    "\n",
    "===============================================\n",
    "\n",
    "機器學習是邁向人工智能（AI）方向的第一步。\n",
    "\n",
    "機器學習是一個分析數據並學習預測結果的程序。"
   ]
  },
  {
   "cell_type": "markdown",
   "metadata": {},
   "source": [
    "<b>Data Set（數據集）</b>"
   ]
  },
  {
   "cell_type": "code",
   "execution_count": null,
   "metadata": {},
   "outputs": [],
   "source": [
    "# In the mind of a computer, a data set is any collection of data.\n",
    "# It can be anything from an array to a complete database.\n",
    "\n",
    "# Example of an array\n",
    "[99,86,87,88,111,86,103,87,94,78,77,85,86]\n",
    "\n",
    "# Example of a database"
   ]
  },
  {
   "cell_type": "markdown",
   "metadata": {},
   "source": [
    "<b>Data Types</b>\n",
    "\n",
    "To analyze data, it is important to know what type of data we are dealing with.\n",
    "\n",
    "==============================================================\n",
    "\n",
    "We can split the data types into three main categories（类别）:\n",
    "\n",
    "<b>Numerical（數字）</b>\n",
    "\n",
    "<b>Categorical（分類）</b>\n",
    "\n",
    "<b>Ordinal（敘述）</b>\n",
    "\n",
    "==============================================================\n",
    "\n"
   ]
  },
  {
   "cell_type": "markdown",
   "metadata": {},
   "source": [
    "### Numerial\n",
    "\n",
    "Are the numbers, and can be split into two numerical categories:\n",
    "\n",
    "<b>Discrete Data（離散數據）</b>\n",
    "\n",
    "- numbers that are limited to integers. Example: The number of cars passing by.\n",
    "\n",
    "- 僅限於整數的數字。例如：經過的汽車數量\n",
    "\n",
    "<b>Contiunous Data（連續數據）</b>\n",
    "\n",
    "- numbers that are of infinite value. Example: The price of an item, or the size of an item.\n",
    "\n",
    "- 具有無限值的數字。例如：物品的價格和物品的大小\n",
    "\n",
    "---------------------------------------------------------------"
   ]
  },
  {
   "cell_type": "markdown",
   "metadata": {},
   "source": [
    "### Categorical\n",
    "\n",
    "Are values that cannot be measured up against each other. Example: a color value, or any yes/no values.\n",
    "\n",
    "分類數據是不能相互衡量的值。例如：顏色，或是任何是/非值。\n",
    "\n",
    "---------------------------------------------------------------"
   ]
  },
  {
   "cell_type": "markdown",
   "metadata": {},
   "source": [
    "### Ordinal\n",
    "\n",
    "Are like categorical data, but can be measured up against each other. Example: school grades where A is better than B and so on.\n",
    "\n",
    "序數數據類似於分類數據，但可以相互衡量。例如：A 優於 B 學校的成績。\n",
    "\n",
    "---------------------------------------------------------------"
   ]
  },
  {
   "cell_type": "markdown",
   "metadata": {},
   "source": [
    "## Median Mode(中值數)\n",
    "\n",
    "### Mean, median, and Mode\n",
    "\n",
    "In Machine Learning (and in mathematics) there are often three values that interests us:\n",
    "\n",
    "- Mean - The average value\n",
    "- Median - The mid point value\n",
    "- Mode - The most common value\n",
    "\n",
    "====================================================================\n",
    "\n",
    "- 平均值 - 平均值\n",
    "- 中位數 - 中點值\n",
    "- 众数 - 最常见的值"
   ]
  },
  {
   "cell_type": "code",
   "execution_count": 1,
   "metadata": {},
   "outputs": [],
   "source": [
    "# Example: We have registered the speed of 13 cars:\n",
    "speed = [99,86,87,88,111,86,103,87,94,78,77,85,86]\n",
    "\n",
    "# Q: What is the average, the middle, or the most common speed value?"
   ]
  },
  {
   "cell_type": "markdown",
   "metadata": {},
   "source": [
    "### Mean\n",
    "\n",
    "The mean values is the average value.\n",
    "\n",
    "To calculate the maen, find the sum of all values, and divide the sum by the number of values:\n",
    "\n",
    "(99+86+87+88+111+86+103+87+94+78+77+85+86) / 13 = 89.77\n",
    "\n",
    "=======================================================================\n",
    "\n",
    "The NumPy module has method for this."
   ]
  },
  {
   "cell_type": "code",
   "execution_count": 2,
   "metadata": {},
   "outputs": [
    {
     "name": "stdout",
     "output_type": "stream",
     "text": [
      "89.76923076923077\n"
     ]
    }
   ],
   "source": [
    "import numpy\n",
    "\n",
    "speed = [99,86,87,88,111,86,103,87,94,78,77,85,86]\n",
    "\n",
    "x = numpy.mean(speed)\n",
    "print(x)"
   ]
  },
  {
   "cell_type": "markdown",
   "metadata": {},
   "source": [
    "### Median\n",
    "\n",
    "The median value is the value in the mddle, after you have sorted all the values:\n",
    "\n",
    "77, 78, 85, 86, 86, 86, <b><u>87</u></b>, 87, 88, 94, 99, 103, 111\n",
    "\n",
    "===================================================================\n",
    "\n",
    "It is important that the numbers are sorted before you can find the median.\n",
    "\n",
    "在找到中位数之前，对数字进行排序很重要。"
   ]
  },
  {
   "cell_type": "code",
   "execution_count": 3,
   "metadata": {},
   "outputs": [
    {
     "name": "stdout",
     "output_type": "stream",
     "text": [
      "87.0\n"
     ]
    }
   ],
   "source": [
    "import numpy\n",
    "\n",
    "speed = [99,86,87,88,111,86,103,87,94,78,77,85,86]\n",
    "\n",
    "x = numpy.median(speed)\n",
    "print(x)"
   ]
  },
  {
   "cell_type": "markdown",
   "metadata": {},
   "source": [
    "If there are two numbers in the middle,divede the sum of those numbers by two.\n",
    "\n",
    "如果中间有两个数字，则将这些数字致和除以2。\n",
    "\n",
    "======================================================================\n",
    "\n",
    "77, 78, 85, 86, 86, <b><u>86, 87</u></b>, 87, 94, 98, 99, 103\n",
    "\n",
    "(86 + 87) / 2 = <b><u>86.5</u></b>\n"
   ]
  },
  {
   "cell_type": "code",
   "execution_count": 4,
   "metadata": {},
   "outputs": [
    {
     "name": "stdout",
     "output_type": "stream",
     "text": [
      "86.5\n"
     ]
    }
   ],
   "source": [
    "\n",
    "import numpy\n",
    "\n",
    "speed = [99,86,87,88,86,103,87,94,78,77,85,86]\n",
    "\n",
    "x = numpy.median(speed)\n",
    "print(x)"
   ]
  },
  {
   "cell_type": "markdown",
   "metadata": {},
   "source": [
    "### Mode\n",
    "\n",
    "The Mode value is the value that appears the most number of times:\n",
    "\n",
    "99, <b><u>86</u></b>, 87, 88, 111, <b><u>86</u></b>, 103, 87, 94, 78, 77, 85, <b><u>86</u></b> = 86"
   ]
  },
  {
   "cell_type": "code",
   "execution_count": 1,
   "metadata": {},
   "outputs": [
    {
     "name": "stdout",
     "output_type": "stream",
     "text": [
      "ModeResult(mode=array([86]), count=array([3]))\n"
     ]
    }
   ],
   "source": [
    "# The SciPy module has a method for this.\n",
    "# 使用 SciPy mode() 方法查找出现次数最多的数字\n",
    "from scipy import stats\n",
    "\n",
    "speed = [99,86,87,88,111,86,103,87,94,78,77,85,86]\n",
    "\n",
    "x = stats.mode(speed)\n",
    "print(x)"
   ]
  },
  {
   "cell_type": "markdown",
   "metadata": {},
   "source": [
    "### Chapter Summary\n",
    "\n",
    "The Mean, Median, and Mode are techniques that are foten used in Machine Learning, so it si important to understand the concept behind them.\n",
    "\n",
    "平均值、中位数和众数是极其学习中经常使用的技术，因此了解它们背后的概念很重要。"
   ]
  },
  {
   "cell_type": "markdown",
   "metadata": {},
   "source": [
    "## Machine Learning - Standard Deviation(标准差)\n",
    "\n",
    "Standard deviation is a number that describes how spread out teh values are.\n",
    "\n",
    "A low standar deviation means that most of the numbers are close to the mean(average) value.\n",
    "\n",
    "A high standard deviation maens that the values are spread out over a wider range.\n",
    "\n",
    "=====================================================================\n",
    "\n",
    "标准差是一个数字，描述值的分散程度。\n",
    "\n",
    "低标准差意味着大多数数字接近均值（平均值）。\n",
    "\n",
    "高标准差表示这些值分布在更宽的范围内。"
   ]
  },
  {
   "cell_type": "markdown",
   "metadata": {},
   "source": [
    "<b>举例：</b>\n",
    "\n",
    "speed = [86, 87, 88, 86, 85, 86]\n",
    " - The standard deviation is: <b><u>0.9</u></b>\n",
    "\n",
    "Meaning that most of the values are within the range（范围内） of 0.9 from the mean value（平均值）, which is 86.4.\n",
    "\n",
    "Do the same with a selection of numbers with a wider range:\n",
    "\n",
    "speed = [32,111,138,28,59,77,97]\n",
    "  - The standard deviation is： <b><u>37.85</u></b>\n",
    "\n",
    "Meaning that most of the values are within the range of 37.85 from the mean value， which is 77.4.\n",
    "\n",
    "=====================================================================\n",
    "\n",
    "As you can see, a higher standard deviaiton indicates that the values are spread out over a wider range.\n",
    "\n",
    "如你所见，较高的标准差表示表示这些值分布在较宽的范围内。\n",
    "\n",
    "========================================================================\n",
    "\n"
   ]
  },
  {
   "cell_type": "code",
   "execution_count": 2,
   "metadata": {},
   "outputs": [
    {
     "name": "stdout",
     "output_type": "stream",
     "text": [
      "0.9035079029052513\n"
     ]
    }
   ],
   "source": [
    "# Use the NumPy std() method to find the standard deviation:\n",
    "\n",
    "import numpy\n",
    "\n",
    "speed = [86,87,88,86,87,85,86]\n",
    "\n",
    "x = numpy.std(speed)\n",
    "print(x)"
   ]
  },
  {
   "cell_type": "code",
   "execution_count": 3,
   "metadata": {},
   "outputs": [
    {
     "name": "stdout",
     "output_type": "stream",
     "text": [
      "37.84501153334721\n"
     ]
    }
   ],
   "source": [
    "import numpy\n",
    "\n",
    "speed = [32,111,138,28,59,77,97]\n",
    "\n",
    "x = numpy.std(speed)\n",
    "print(x)"
   ]
  },
  {
   "cell_type": "markdown",
   "metadata": {},
   "source": [
    "### Variance（方差）\n",
    "\n",
    "Varicance is another number that indicates（取决） how spread（分散） out the values are.\n",
    "\n",
    "In fact,if you take the square root（平方根） of the variance, you get the standard deviation（标准偏差）.\n",
    "\n",
    "Or the other way around, if you multply the standard deviaiton by itself, you get teh variance!\n",
    "\n",
    "方差是另一个数字，指示值的分散程度。\n",
    "\n",
    "实际上，如果采用方差的平方根，则会得到标准偏差。\n",
    "\n",
    "或反之，如果将标准偏差乘以自身，就可以得到方差。\n",
    "\n",
    "========================================================================\n",
    "\n",
    "1. Find the mean:\n",
    "- 找到平均值\n",
    "\n",
    "(32+111+138+28+59+77+97) / 7 = 77.4\n",
    "\n",
    "2. For each value: find the difference from the mean:\n",
    "- 对于每个值，找到与平均值的差\n",
    "\n",
    "32 - 77.4 = -45.4\n",
    "\n",
    "111 - 77.4 =  33.6\n",
    "\n",
    "138 - 77.4 =  60.6\n",
    "\n",
    "28 - 77.4 = -49.4\n",
    "\n",
    "59 - 77.4 = -18.4\n",
    "\n",
    "77 - 77.4 = - 0.4\n",
    "\n",
    "97 - 77.4 =  19.6\n",
    "\n",
    "3. For each difference: find the square value:\n",
    "- 对于每个差异：找到平方值\n",
    "\n",
    "(-45.4)2 = 2061.16\n",
    "(33.6)2 = 1128.96\n",
    "(60.6)2 = 3672.36\n",
    "(-49.4)2 = 2440.36\n",
    "(-18.4)2 =  338.56\n",
    "(- 0.4)2 =    0.16\n",
    "(19.6)2 =  384.16\n",
    "\n",
    "4. The variance is the average number of these squared difference:\n",
    "- 方差是这些平方差的平均值\n",
    "\n",
    "(2061.16+1128.96+3672.36+2440.36+338.56+0.16+384.16) / 7 = 1432.2"
   ]
  },
  {
   "cell_type": "code",
   "execution_count": 4,
   "metadata": {},
   "outputs": [
    {
     "name": "stdout",
     "output_type": "stream",
     "text": [
      "1432.2448979591834\n"
     ]
    }
   ],
   "source": [
    "# LUckily, NumPy has a method to calculate the variance:\n",
    "\n",
    "import numpy\n",
    "\n",
    "speed = [32,111,138,28,59,77,97]\n",
    "\n",
    "x = numpy.var(speed)\n",
    "print(x)"
   ]
  },
  {
   "cell_type": "markdown",
   "metadata": {},
   "source": [
    "### Standard Deviation(标准偏差)\n",
    "\n",
    "The Standard Deviation and Variance are terms that are often used in Machine Learning, so it is important to understand how to get them, and concept behind them.\n",
    "\n",
    "标准偏差和方差是极其学习中经常使用的术语，因此了解如何获取它们以及它们背后的概念非常重要。"
   ]
  },
  {
   "cell_type": "code",
   "execution_count": 5,
   "metadata": {},
   "outputs": [
    {
     "name": "stdout",
     "output_type": "stream",
     "text": [
      "37.84501153334721\n"
     ]
    }
   ],
   "source": [
    "# Use the NumPy std() method to find the standard deviation:\n",
    "\n",
    "import numpy\n",
    "\n",
    "speed = [32,111,138,28,59,77,97]\n",
    "\n",
    "x = numpy.std(speed)\n",
    "\n",
    "print(x)"
   ]
  },
  {
   "cell_type": "markdown",
   "metadata": {},
   "source": [
    "## Machine Learning - Percentiles(百分位数)\n",
    "\n",
    "### What are Percentiles?\n",
    "\n",
    "Percentiles are used in statistics（统计学） to give you a number that describes（描述了） the value that a given percent of the values are lower than（该数字描述了给定百分比值低于的值）."
   ]
  },
  {
   "cell_type": "markdown",
   "metadata": {},
   "source": [
    "========================================================================\n",
    "\n",
    "ages = [5,31,43,48,50,41,7,11,15,39,80,82,32,2,8,6,25,36,27,61,31]\n",
    "\n",
    "What is the 75. percentile? The answer is 43, meaning that 75% of the people are 43 or younger.\n",
    "\n",
    "什麼是75.百分位數？答案是43，意味著75%的人是43歲或以下。"
   ]
  },
  {
   "cell_type": "code",
   "execution_count": 1,
   "metadata": {},
   "outputs": [
    {
     "name": "stdout",
     "output_type": "stream",
     "text": [
      "43.0\n"
     ]
    }
   ],
   "source": [
    "import numpy\n",
    "\n",
    "ages = [5,31,43,48,50,41,7,11,15,39,80,82,32,2,8,6,25,36,27,61,31]\n",
    "\n",
    "x = numpy.percentile(ages, 75)\n",
    "print(x)"
   ]
  },
  {
   "cell_type": "code",
   "execution_count": 3,
   "metadata": {},
   "outputs": [
    {
     "name": "stdout",
     "output_type": "stream",
     "text": [
      "31.0\n"
     ]
    }
   ],
   "source": [
    "# What is the age that 50% of the people are younger than?\n",
    "\n",
    "import numpy\n",
    "\n",
    "ages = [5,31,43,48,50,41,7,11,15,39,80,82,32,2,8,6,25,36,27,61,31]\n",
    "\n",
    "x = numpy.percentile(ages, 50)\n",
    "print(x)"
   ]
  },
  {
   "cell_type": "markdown",
   "metadata": {},
   "source": [
    "## Machine Learning - Data Distribution（數據分佈）\n",
    "\n",
    "Earlier tutorial we have worked with very small amounts of data in our examples,just to understand the different concepts（概念）.\n",
    "\n",
    "In the real world, the data sets are much bigger, but it can be diffcule to gather（收集） real world data, at least（至少） at an early stage of a project.\n",
    "\n",
    "========================================================================\n",
    "\n",
    "<b>How Can we Get Big Data Sets</b>\n",
    "\n",
    "To create big data sets for testing, we use the Python module NumPy, which comes with a number of methods to create random data sets, of any size."
   ]
  },
  {
   "cell_type": "code",
   "execution_count": 5,
   "metadata": {},
   "outputs": [
    {
     "name": "stdout",
     "output_type": "stream",
     "text": [
      "[1.16213983 0.76329185 2.53048183 1.4679453  3.41966489 0.53517833\n",
      " 1.30421636 0.2059567  3.22736914 4.82600653 2.71940248 3.74633998\n",
      " 3.43507008 4.26520871 3.63091398 2.02073558 2.42687303 1.48588357\n",
      " 4.82113074 2.45255573 2.0082759  2.84300215 4.47686492 3.80352538\n",
      " 0.92820137 4.93174955 4.99711472 3.37200005 2.59421373 4.49144965\n",
      " 4.74457822 3.06930784 1.79532513 3.86968665 0.56194871 1.28630641\n",
      " 0.33278971 0.91357878 0.7185326  2.15527848 4.16161926 0.29177913\n",
      " 4.2530837  1.30307274 3.2501127  4.6122644  0.28373737 2.60096042\n",
      " 4.70973035 1.94529818 1.51661795 0.89352137 3.27881845 4.92391288\n",
      " 2.9135088  4.55210003 2.49277168 1.27667653 0.65322597 1.98458027\n",
      " 0.68249366 3.16219295 4.33373027 4.70563735 2.98229448 0.5415346\n",
      " 1.14830602 1.11679948 0.38478241 3.72549201 0.58779502 2.44295276\n",
      " 3.25990863 4.92031435 2.19984237 2.89454461 4.23369985 0.14961888\n",
      " 3.75308789 1.91858178 4.05504705 1.0300532  0.48999419 1.06954302\n",
      " 2.89152109 1.780712   3.66139665 4.85695348 1.51801142 0.64442526\n",
      " 2.73213379 1.82939396 1.52080964 1.60567913 4.5672565  3.92659496\n",
      " 4.5555225  4.6381114  3.08501105 0.38521412 1.62918931 0.54860972\n",
      " 4.51274399 2.28907138 4.33129936 3.9233394  2.57112158 4.85849978\n",
      " 1.40175292 2.78554514 2.72516166 4.23626657 3.64435415 4.80263745\n",
      " 4.48073155 0.66331269 3.43768555 1.88472686 4.49876841 1.59924765\n",
      " 3.71824358 0.55553821 3.09547101 3.05735444 2.87795924 3.78358321\n",
      " 3.87904479 2.13773643 0.92894189 3.15278887 2.20861842 4.5429001\n",
      " 1.52441525 3.69702328 4.28059872 0.27717112 4.90037394 1.5063453\n",
      " 2.14860426 1.86024988 2.19839495 2.19968941 4.20514226 3.58395595\n",
      " 4.81985721 3.25372815 2.11218448 0.3356218  0.24926279 1.85885289\n",
      " 4.62047781 3.40975098 2.59997449 2.00107761 0.52241752 2.91173706\n",
      " 3.9186943  4.69142881 2.28827143 2.89699969 0.98085195 4.24359354\n",
      " 3.28796707 3.65001958 2.99409837 3.25055508 4.70982919 4.51987259\n",
      " 2.57178005 3.40196229 1.48496065 4.9836462  2.72666434 1.51252665\n",
      " 0.65392817 1.16980211 4.14618515 0.55393346 0.21515747 4.47413567\n",
      " 3.15970726 0.33128604 3.66510326 4.8247958  1.11588174 4.6000895\n",
      " 0.95033024 4.34320525 3.82844586 3.47741879 4.45346595 1.84976632\n",
      " 1.25621675 0.85667187 4.43422854 4.42618921 2.47580136 3.76563632\n",
      " 1.10502981 4.24905542 1.64145815 0.60186337 1.38317328 3.20950356\n",
      " 1.17976943 2.61972605 4.68115795 0.90609218 4.10507311 3.8258323\n",
      " 0.03448205 4.15741226 0.69559609 2.33860165 3.3836612  1.50284546\n",
      " 2.5428369  1.21862448 1.37363769 3.85837227 2.49816901 0.12839305\n",
      " 3.61366957 0.30805312 3.93044822 4.53852977 0.03257769 3.72530364\n",
      " 3.00639995 1.70402296 2.90343406 2.29856462 0.25293106 3.18188625\n",
      " 4.35900094 3.54412543 1.78611616 2.19028394 0.57344308 1.47274751\n",
      " 3.13921743 0.0209542  0.57888275 0.51585411 2.93092096 1.85278467\n",
      " 0.75768807 2.68083832 0.02554034 4.1033486 ]\n"
     ]
    }
   ],
   "source": [
    "# Create an arry containing 250 random floats between 0 and 5\n",
    "\n",
    "import numpy\n",
    "\n",
    "# numpy.random.uniform(low, high, size)\n",
    "# 从一个均匀分布（low, high）中随机采样\n",
    "x = numpy.random.uniform(0.0, 5.0, 250)\n",
    "print(x)"
   ]
  },
  {
   "cell_type": "markdown",
   "metadata": {},
   "source": [
    "### Histogram（直方图）\n",
    "\n",
    "To visualize the date set we can draw a histogram with data we collected.Use the Python module Matplotlib to draw a histogram."
   ]
  },
  {
   "cell_type": "code",
   "execution_count": 8,
   "metadata": {},
   "outputs": [
    {
     "name": "stdout",
     "output_type": "stream",
     "text": [
      "\n",
      "Histogram Explained\n",
      "The array from the example above to draw a histogram with 5 bars.\n",
      "The first bar represents(代表) how many values in the array are between 0 and 1.\n",
      "The second bar represents how many values are betwwen 1 and 2.\n",
      "      \n"
     ]
    },
    {
     "data": {
      "image/png": "[encoded data removed]",
      "text/plain": [
       "<Figure size 432x288 with 1 Axes>"
      ]
     },
     "metadata": {
      "needs_background": "light"
     },
     "output_type": "display_data"
    }
   ],
   "source": [
    "import matplotlib.pyplot as plt\n",
    "\n",
    "plt.hist(x)\n",
    "plt.show\n",
    "\n",
    "print('''\n",
    "Histogram Explained\n",
    "The array from the example(举例中) above to draw a histogram with 5 bars.\n",
    "The first bar represents(代表) how many values in the array are between 0 and 1.\n",
    "The second bar represents how many values are betwwen 1 and 2.\n",
    "      ''')"
   ]
  },
  {
   "cell_type": "markdown",
   "metadata": {},
   "source": [
    "### Big Data Distributions\n",
    "\n",
    "An array containing（包含） 250 values is not considered（被认为） very big, but now you know how to create a random set of values, and by changing the parameters,you can create teh data set as big as you want."
   ]
  },
  {
   "cell_type": "code",
   "execution_count": 12,
   "metadata": {},
   "outputs": [
    {
     "data": {
      "image/png": "[encoded data removed]",
      "text/plain": [
       "<Figure size 432x288 with 1 Axes>"
      ]
     },
     "metadata": {
      "needs_background": "light"
     },
     "output_type": "display_data"
    }
   ],
   "source": [
    "import numpy\n",
    "import matplotlib.pyplot as plt\n",
    "\n",
    "x = numpy.random.uniform(0.0, 5.0, 1000000)\n",
    "\n",
    "# plt.hist(x, bins)\n",
    "# 我们可以在his()里面放入两个参数x与bins。其中，x为我们想要画出的资料；bins为横轴的组距，若指定为auto则表示自动决定。\n",
    "plt.hist(x,500)\n",
    "plt.show()"
   ]
  },
  {
   "cell_type": "markdown",
   "metadata": {},
   "source": [
    "### Normal Data Distribution（正态数据分布）\n",
    "\n",
    "To Create an array where the values are concentrated（集中） around a given value.\n",
    "\n",
    "创建一个将值集中在给定值周围的数组。\n",
    "\n",
    "In probability theory（概率论） this kind of data distribution is known as the normal data distribution（正态数据分布）, or the Gaussian data distribution（高斯数据分布）, after the mathematician（数学家） <b><u>Car Friedrich Gauss（卡尔·弗里德里希·高斯）</u></b> who came up（想出了） with the formula（公式） of this data distribution.\n",
    "\n"
   ]
  },
  {
   "cell_type": "code",
   "execution_count": 15,
   "metadata": {},
   "outputs": [
    {
     "data": {
      "image/png": "[encoded data removed]",
      "text/plain": [
       "<Figure size 432x288 with 1 Axes>"
      ]
     },
     "metadata": {
      "needs_background": "light"
     },
     "output_type": "display_data"
    },
    {
     "name": "stdout",
     "output_type": "stream",
     "text": [
      "\n",
      "A normal distribution graph is also knwon as the bell curve（钟形曲线） because of it's characteristic(特征) shape of a bell.\n",
      "      \n"
     ]
    }
   ],
   "source": [
    "# A typical(典型的) normal data distribution\n",
    "import numpy\n",
    "import matplotlib.pyplot as plt\n",
    "\n",
    "x = numpy.random.normal(5.0, 1.0 , 100000)\n",
    "plt.hist(x, 100)\n",
    "plt.show()\n",
    "\n",
    "print('''\n",
    "A normal distribution graph is also knwon as the bell curve（钟形曲线） because of it's characteristic(特征) shape of a bell.\n",
    "      ''')"
   ]
  },
  {
   "cell_type": "markdown",
   "metadata": {},
   "source": [
    "<b>Histogram Explained</b>\n",
    "\n",
    "We use teh array from the numpy.random.normal() method, with 100000 values, to draw a histogram with 100 bars.\n",
    "\n",
    "numpy.random.normal(mean value, standard deviation)\n",
    "- We specify（指定） that the mean value（平均值 is 5.0, and the standard deviation(标准差) is 1.0.\n",
    "- 这意味着该值应集中在5.0左右，并且很少远离平均值小于1.0\n",
    "\n",
    "And as you can see from the histogram, most values are between 4.0 and 6.0, with a top at approximately（大约） 5.0."
   ]
  },
  {
   "cell_type": "markdown",
   "metadata": {},
   "source": [
    "## Machine Learning - Scatter Plot（散点图）\n",
    "\n",
    "A scatter plot is a diagram（图标） where each value in the data set（数据集） in represented（表示） by a dot.\n",
    "\n",
    "In Matplotlib module has a method for drawing scatter plots,it need two arrays of the asme length, one fro the values of the x-axis,and one for the values of the y-axis."
   ]
  },
  {
   "cell_type": "code",
   "execution_count": 18,
   "metadata": {},
   "outputs": [
    {
     "name": "stdout",
     "output_type": "stream",
     "text": [
      "13\n",
      "13\n"
     ]
    },
    {
     "data": {
      "image/png": "[encoded data removed]",
      "text/plain": [
       "<Figure size 432x288 with 1 Axes>"
      ]
     },
     "metadata": {
      "needs_background": "light"
     },
     "output_type": "display_data"
    },
    {
     "name": "stdout",
     "output_type": "stream",
     "text": [
      "\n",
      "It seems that the newer the car, the faster it drives, but that could be a coincidence(巧合),after all we only registered 13 cars.\n",
      "      \n"
     ]
    }
   ],
   "source": [
    "import matplotlib.pyplot as plt\n",
    "\n",
    "# The x array represents the age of each car\n",
    "# The y array represents the speed of each car\n",
    "x = [5,7,8,7,2,17,2,9,4,11,12,9,6]\n",
    "y = [99,86,87,88,111,86,103,87,94,78,77,85,86]\n",
    "\n",
    "print(len(x))\n",
    "print(len(y))\n",
    "\n",
    "plt.scatter(x,y)\n",
    "plt.show()\n",
    "\n",
    "print('''\n",
    "It seems that the newer the car, the faster it drives, but that could be a coincidence(巧合),after all we only registered 13 cars.\n",
    "      ''')"
   ]
  },
  {
   "cell_type": "markdown",
   "metadata": {},
   "source": [
    "### Random Data Distributions（随机数据分布）\n",
    "\n",
    "In Machine Learning the data sets can contain thousands-, or even millions, of values.\n",
    "\n",
    "You might not have real world data when you are testing an algorithm（算法）, you might have to use randomly generated（产生） values.\n",
    "\n",
    "Let us create two arrays that are both filled with 1000 random numbers from a normal data distribution."
   ]
  },
  {
   "cell_type": "code",
   "execution_count": 22,
   "metadata": {},
   "outputs": [
    {
     "data": {
      "image/png": "[encoded data removed]",
      "text/plain": [
       "<Figure size 432x288 with 1 Axes>"
      ]
     },
     "metadata": {
      "needs_background": "light"
     },
     "output_type": "display_data"
    },
    {
     "name": "stdout",
     "output_type": "stream",
     "text": [
      "\n",
      "We can see that the dots are concentrated（集中） around the value 5 on the x-axis, and 10 on the y-axis.\n",
      "\n",
      "We can also see that the spread（扩散） is wider on the y-axis than on the x-axis.\n",
      "      \n"
     ]
    }
   ],
   "source": [
    "import numpy\n",
    "import matplotlib.pyplot as plt\n",
    "\n",
    "x = numpy.random.normal(5.0, 1.0, 1000)\n",
    "y = numpy.random.normal(10.0, 2.0, 1000)\n",
    "\n",
    "plt.scatter(x, y)\n",
    "plt.show()\n",
    "\n",
    "print('''\n",
    "We can see that the dots are concentrated（集中） around the value 5 on the x-axis, and 10 on the y-axis.\n",
    "\n",
    "We can also see that the spread（扩散） is wider on the y-axis than on the x-axis.\n",
    "      ''')"
   ]
  },
  {
   "cell_type": "markdown",
   "metadata": {},
   "source": [
    "### Machine Learning - Linear Regression（线性回归）\n",
    "\n",
    "<b>Regression</b>\n",
    "\n",
    "The term regression is used when you try to find the relationship betwwen variables.\n",
    "\n",
    "In Machine Learning, and in statistical modeling, that relationship is used to predict the outcome of future events.\n",
    "\n",
    "当尝试查找变量之间的关系时，会使用术语回归。\n",
    "\n",
    "在机器学习和统计建模时，该关系用于预测未来时间的结果。\n",
    "\n",
    "=======================================================================\n"
   ]
  },
  {
   "cell_type": "markdown",
   "metadata": {},
   "source": [
    "### Linear Regression\n",
    "\n",
    "Lineare regression（线性回归） uses the relationship between the data-points（数据点之间的关系） to draw a straight line（直线） through all them.\n",
    "\n",
    "This line can be used to predict（预测） future values（未来价值）.\n",
    "\n",
    "In Machine Learning, predicting the future is very important."
   ]
  },
  {
   "cell_type": "code",
   "execution_count": 1,
   "metadata": {},
   "outputs": [
    {
     "data": {
      "image/png": "[encoded data removed]",
      "text/plain": [
       "<Figure size 432x288 with 1 Axes>"
      ]
     },
     "metadata": {
      "needs_background": "light"
     },
     "output_type": "display_data"
    }
   ],
   "source": [
    "# the x-axis represents(代表) age, and the y-axis represents(代表) speed. \n",
    "# We have registered（记录） the age and speed of 13 cars as they were passing tollbooth（收费站）.\n",
    "\n",
    "import matplotlib.pyplot as plt\n",
    "\n",
    "x = [5,7,8,7,2,17,2,9,4,11,12,9,6]\n",
    "y = [99,86,87,88,111,86,103,87,94,78,77,85,86]\n",
    "\n",
    "plt.scatter(x, y)\n",
    "plt.show()"
   ]
  },
  {
   "cell_type": "code",
   "execution_count": 1,
   "metadata": {},
   "outputs": [
    {
     "data": {
      "image/png": "[encoded data removed]",
      "text/plain": [
       "<Figure size 432x288 with 1 Axes>"
      ]
     },
     "metadata": {
      "needs_background": "light"
     },
     "output_type": "display_data"
    }
   ],
   "source": [
    "# import scipy and draw the line of Linear Regression\n",
    "\n",
    "import matplotlib.pyplot as plt\n",
    "from scipy import stats\n",
    "\n",
    "x = [5,7,8,7,2,17,2,9,4,11,12,9,6]\n",
    "y = [99,86,87,88,111,86,103,87,94,78,77,85,86]\n",
    "\n",
    "slope, intercept, r, p, std_err = stats.linregress(x, y)\n",
    "\n",
    "def myfunc(x):\n",
    "  return slope * x + intercept\n",
    "\n",
    "mymodel = list(map(myfunc, x))\n",
    "\n",
    "plt.scatter(x, y)\n",
    "plt.plot(x, mymodel)\n",
    "plt.show()"
   ]
  },
  {
   "cell_type": "markdown",
   "metadata": {},
   "source": [
    "### Example Explained\n",
    "\n",
    "First, import the modules you need.\n",
    "\n",
    "You can learn about the SciPy module in SciPy Tutorial[https://www.w3schools.com/python/scipy/index.php]."
   ]
  },
  {
   "cell_type": "code",
   "execution_count": null,
   "metadata": {},
   "outputs": [],
   "source": [
    "import matplotlib.pyplot as plt\n",
    "from scipy import stats\n",
    "\n",
    "# Create the arrays that represent(代表) the values of the x and y axis\n",
    "x = [5,7,8,7,2,17,2,9,4,11,12,9,6]\n",
    "y = [99,86,87,88,111,86,103,87,94,78,77,85,86]\n",
    "\n",
    "# Execute a method that returns some important key values of Linear Regression\n",
    "# [https://vimsky.com/zh-tw/examples/usage/python-scipy.stats.linregress.html]\n",
    "# scipy.stats.linregress(x, y=None, alternative='two-sided')\n",
    "# x,y 兩組測量。兩個數組應該具有相同的長度\n",
    "# two-sided（默認）：回歸線的斜率非零\n",
    "# less：回歸線的斜率小於零\n",
    "# greater：回歸線的斜率大於零\n",
    "slope, intercept, r, p, std_err = stats.linregress(x, y)\n",
    "# slope（坡，浮點數）：回歸線的斜率\n",
    "# intercept（截距，浮點數）：回歸線的截距\n",
    "# r（右值，浮點數）：皮爾遜相關係數。rvalue 的平方等於決定係數。\n",
    "# p（p值，浮點數）：p-value 用於假設檢驗，其原設是斜率為零，使用具有檢驗統計量的t分佈的Wald檢驗。\n",
    "# stderr（標準錯誤，浮點數）：在殘差正態性假設下，估計斜率（梯度）的標準誤差"
   ]
  }
 ],
 "metadata": {
  "kernelspec": {
   "display_name": "Python 3.9.12 ('base')",
   "language": "python",
   "name": "python3"
  },
  "language_info": {
   "codemirror_mode": {
    "name": "ipython",
    "version": 3
   },
   "file_extension": ".py",
   "mimetype": "text/x-python",
   "name": "python",
   "nbconvert_exporter": "python",
   "pygments_lexer": "ipython3",
   "version": "3.9.12"
  },
  "orig_nbformat": 4,
  "vscode": {
   "interpreter": {
    "hash": "e06c6dea1d58ab172c9060eb008467b5a6e5b460c4e8372b00ecf0425e80488b"
   }
  }
 },
 "nbformat": 4,
 "nbformat_minor": 2
}
