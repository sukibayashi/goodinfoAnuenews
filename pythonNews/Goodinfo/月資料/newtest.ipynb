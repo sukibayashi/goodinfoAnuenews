{
 "cells": [
  {
   "cell_type": "code",
   "execution_count": 1,
   "metadata": {},
   "outputs": [
    {
     "data": {
      "text/plain": [
       "pandas.core.frame.DataFrame"
      ]
     },
     "execution_count": 1,
     "metadata": {},
     "output_type": "execute_result"
    }
   ],
   "source": [
    "import requests\n",
    "from bs4 import BeautifulSoup\n",
    "import sqlite3\n",
    "import numpy as np\n",
    "import pandas as pd\n",
    "import time\n",
    "\n",
    "# 連接到資料庫A ====================================================================\n",
    "conn1 = sqlite3.connect('goodinfoRevenue (0-500).db')\n",
    "cursor1 = conn1.cursor()\n",
    "sql1 = '''select * from financialStatements t'''\n",
    "dfData1 = pd.read_sql(sql1,conn1)\n",
    "dfData1 = pd.DataFrame(dfData1)\n",
    "\n",
    "# 連接到資料庫B ====================================================================\n",
    "conn2 = sqlite3.connect('goodinfoRevenue (TEST) .db')\n",
    "cursor2 = conn2.cursor()\n",
    "sql2 = '''select * from financialStatements t'''\n",
    "dfData2 = pd.read_sql(sql2,conn2)\n",
    "dfData2 = pd.DataFrame(dfData2)\n",
    "\n",
    "# 連接到資料庫【代碼】 ==============================================================\n",
    "sqlStock = '''select * from stock t'''\n",
    "dfStock = pd.read_sql(sqlStock,conn1)\n",
    "dfStock = pd.DataFrame(dfStock)\n",
    "ids = dfStock['code']\n",
    "\n",
    "# # 合併資料庫A/B/C/D（資料庫A已經有了所以不用合併資料A），記得轉變成DataFrame的形態\n",
    "# dfconcat = pd.concat([dfData1,dfData2, dfData3,dfData4])\n",
    "# dfconcat2 = pd.DataFrame(dfconcat)\n",
    "# dfconcat2 = dfconcat2.fillna(0)\n"
   ]
  },
  {
   "cell_type": "code",
   "execution_count": 3,
   "metadata": {},
   "outputs": [
    {
     "name": "stdout",
     "output_type": "stream",
     "text": [
      "【單季財報】資料庫已更新成功\n",
      "已關閉資料庫連接\n"
     ]
    }
   ],
   "source": [
    "for index, row in dfData2.iterrows():\n",
    "    cursor1.execute('INSERT INTO financialStatements values(?, ?, ?, ?, ?, ?, ?, ?, ?, ?, ?, ?, ?, ?, ?, ?, ?, ?, ?, ?, ?, ?, ?, ?, ?, ?, ?, ?, ?, ?, ?, ?, ?, ?, ?, ?, ?, ?, ?, ?, ?, ?, ?, ?, ?, ?, ?, ?, ?, ?, ?, ?, ?, ?, ?, ?, ?, ?, ?, ?, ?, ?, ?, ?, ?, ?, ?, ?, ?, ?, ?, ?, ?, ?, ?, ?, ?, ?, ?, ?, ?, ?, ?, ?, ?, ?, ?, ?, ?, ?, ?, ?, ?, ?, ?, ?, ?)', row)\n",
    "    conn1.commit()\n",
    "\n",
    "\n",
    "print('【單季財報】資料庫已更新成功')\n",
    "if conn1:\n",
    "    conn1.close()\n",
    "    print('已關閉資料庫連接')"
   ]
  }
 ],
 "metadata": {
  "kernelspec": {
   "display_name": "Python 3.10.7 64-bit (microsoft store)",
   "language": "python",
   "name": "python3"
  },
  "language_info": {
   "codemirror_mode": {
    "name": "ipython",
    "version": 3
   },
   "file_extension": ".py",
   "mimetype": "text/x-python",
   "name": "python",
   "nbconvert_exporter": "python",
   "pygments_lexer": "ipython3",
   "version": "3.10.7"
  },
  "orig_nbformat": 4,
  "vscode": {
   "interpreter": {
    "hash": "0d17bd3c188470cc3cbfd93c90c2f8b3f5ab1a762ae997509e3112b6584543eb"
   }
  }
 },
 "nbformat": 4,
 "nbformat_minor": 2
}
