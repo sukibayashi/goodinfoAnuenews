{
 "cells": [
  {
   "cell_type": "code",
   "execution_count": 2,
   "metadata": {},
   "outputs": [],
   "source": [
    "import requests\n",
    "from bs4 import BeautifulSoup\n",
    "import sqlite3\n",
    "import numpy as np\n",
    "import pandas as pd\n",
    "import time\n",
    "\n",
    "# 連接到資料庫A ====================================================================\n",
    "conn1 = sqlite3.connect('goodinfoRevenue (0-500).db')\n",
    "cursor1 = conn1.cursor()\n",
    "sql1 = '''select * from financialStatements t'''\n",
    "dfData1 = pd.read_sql(sql1,conn1)\n",
    "dfData1 = pd.DataFrame(dfData1)\n",
    "\n",
    "# 連接到資料庫B ====================================================================\n",
    "conn2 = sqlite3.connect('goodinfoRevenue (500-1000).db')\n",
    "cursor2 = conn2.cursor()\n",
    "sql2 = '''select * from financialStatements t'''\n",
    "dfData2 = pd.read_sql(sql2,conn2)\n",
    "dfData2 = pd.DataFrame(dfData2)\n",
    "\n",
    "# 連接到資料庫C ====================================================================\n",
    "conn3 = sqlite3.connect('goodinfoRevenue(1000-1500).db')\n",
    "cursor3 = conn3.cursor()\n",
    "sql3 = '''select * from financialStatements t'''\n",
    "dfData3 = pd.read_sql(sql3,conn3)\n",
    "dfData3 = pd.DataFrame(dfData3)\n",
    "\n",
    "# 連接到資料庫D ====================================================================\n",
    "conn4 = sqlite3.connect('goodinfoRevenue(1500-1759).db')\n",
    "cursor4 = conn4.cursor()\n",
    "sql4 = '''select * from financialStatements t'''\n",
    "dfData4 = pd.read_sql(sql4,conn4)\n",
    "dfData4 = pd.DataFrame(dfData4)\n",
    "\n",
    "# 連接到資料庫E ====================================================================\n",
    "connTEST = sqlite3.connect('goodinfoRevenue (TEST) .db')\n",
    "cursorTEST = connTEST.cursor()\n",
    "sqlTEST = '''select * from financialStatements t'''\n",
    "dfDataTEST = pd.read_sql(sqlTEST,connTEST)\n",
    "dfDataTEST = pd.DataFrame(dfData4)\n",
    "\n",
    "# 連接到資料庫【代碼】 ==============================================================\n",
    "sqlStock = '''select * from stock t'''\n",
    "dfStock = pd.read_sql(sqlStock,conn1)\n",
    "dfStock = pd.DataFrame(dfStock)\n",
    "ids = dfStock['code']\n",
    "\n",
    "# 合併資料庫A/B/C/D（資料庫A已經有了所以不用合併資料A），記得轉變成DataFrame的形態\n",
    "dfconcat = pd.concat([dfData1,dfData2, dfData3,dfData4])\n",
    "dfconcat2 = pd.DataFrame(dfconcat)\n",
    "dfconcat2 = dfconcat2.fillna(0)\n",
    "\n",
    "for index, row in dfconcat2.iterrows():\n",
    "    cursorTEST.execute('INSERT INTO financialStatements values(?, ?, ?, ?, ?, ?, ?, ?, ?, ?, ?, ?, ?, ?, ?, ?, ?, ?, ?, ?, ?, ?, ?, ?, ?, ?, ?, ?, ?, ?, ?, ?, ?, ?, ?, ?, ?, ?, ?, ?, ?, ?, ?, ?, ?, ?, ?, ?, ?, ?, ?, ?, ?, ?, ?, ?, ?, ?, ?, ?, ?, ?, ?, ?, ?, ?, ?, ?, ?, ?, ?, ?, ?, ?, ?, ?, ?, ?, ?, ?, ?, ?, ?, ?, ?, ?, ?, ?, ?, ?, ?, ?, ?, ?, ?, ?, ?)', row)\n",
    "    connTEST.commit()\n",
    "\n",
    "\n",
    "print('【單季財報】資料庫已更新成功')\n",
    "if connTEST:\n",
    "    connTEST.close()\n",
    "    print('已關閉資料庫連接')"
   ]
  }
 ],
 "metadata": {
  "kernelspec": {
   "display_name": "Python 3.10.7 64-bit (microsoft store)",
   "language": "python",
   "name": "python3"
  },
  "language_info": {
   "codemirror_mode": {
    "name": "ipython",
    "version": 3
   },
   "file_extension": ".py",
   "mimetype": "text/x-python",
   "name": "python",
   "nbconvert_exporter": "python",
   "pygments_lexer": "ipython3",
   "version": "3.10.7"
  },
  "orig_nbformat": 4,
  "vscode": {
   "interpreter": {
    "hash": "0d17bd3c188470cc3cbfd93c90c2f8b3f5ab1a762ae997509e3112b6584543eb"
   }
  }
 },
 "nbformat": 4,
 "nbformat_minor": 2
}
