{
 "cells": [
  {
   "cell_type": "code",
   "execution_count": 2,
   "metadata": {},
   "outputs": [
    {
     "name": "stdout",
     "output_type": "stream",
     "text": [
      "3430\n",
      "已完成1760次\n",
      "爬蟲完畢\n"
     ]
    }
   ],
   "source": [
    "# 1000-1500\n",
    "import requests\n",
    "from bs4 import BeautifulSoup\n",
    "import sqlite3\n",
    "import numpy as np\n",
    "import pandas as pd\n",
    "import time\n",
    "# Google增強DataFrame的渲染和導出\n",
    "# from google.colab import data_table\n",
    "# data_table.enable_dataframe_formatter()\n",
    "\n",
    "# 連接到資料庫A=======================================================================\n",
    "conn = sqlite3.connect('goodinfoRevenue.db')\n",
    "cursor = conn.cursor()\n",
    "sql = '''select * from financialStatements t'''\n",
    "dfdatabase = pd.read_sql(sql,conn)\n",
    "\n",
    "# 連接到資料庫B\n",
    "sqlStock = '''select * from stock t'''\n",
    "dfStock = pd.read_sql(sqlStock,conn)\n",
    "dfStock = pd.DataFrame(dfStock)\n",
    "ids = dfStock['code'][1759:]\n",
    "# ===================================================================================\n",
    "\n",
    "count=1759\n",
    "\n",
    "for id in ids:\n",
    "    print(id)\n",
    "    # 爬個股資料\n",
    "    url = f'https://goodinfo.tw/tw/StockFinDetail.asp?RPT_CAT=XX_M_QUAR_ACC&STOCK_ID={id}'\n",
    "    headers = {'User-Agent': 'Mozilla/5.0 (Windows NT 10.0; Win64; x64) AppleWebKit/537.36 (KHTML, like Gecko) Chrome/105.0.0.0 Safari/537.36 Edg/105.0.1343.27'}\n",
    "    res = requests.get(url, headers = headers,timeout=15)\n",
    "    res.encoding = \"utf-8\" \n",
    "\n",
    "    soup = BeautifulSoup(res.text,\"lxml\") \n",
    "    data = soup.select_one(\"#txtFinBody\")\n",
    "\n",
    "\n",
    "    # 【重整表格】 ====================================================================\n",
    "    dfs = pd.read_html(data.prettify())\n",
    "    df = dfs[1]\n",
    "    # 調整順序\n",
    "    df2 = df.reindex(index=[12, 0, 1, 2, 3, 4, 5, 6, 7, 8, 9, 10, 11, 13, 14, 15, 16, 17, 18, 19, 20, 21, 22, 23, 24, 25, 26, 27, 28, 29, 30, 31, 32, 33, 34, 35, 36, 37, 38, 39, 40, 41, 42, 43, 44, 45, 46, 47, 48, 49, 50, 51, 52, 53, 54, 55, 56, 57, 58, 59, 60, 61, 62, 63, 64, 65, 66, 67, 68, 69, 70, 71, 72, 73, 74, 75, 76, 77, 78, 79, 80, 81, 82, 83, 84, 85, 86, 87, 88, 89, 90, 91, 92, 93, 94, 95, 96, 97, 98, 99, 100, 101, 102, 103, 104, 105])\n",
    "    # 刪除多餘財報\n",
    "    df2 = df2.drop(index=[20,30,40,50,57,64,71,78,94,100])\n",
    "    # 修改季度名稱\n",
    "    df2.iloc[df2.獲利能力 == '獲利年成長率',0] = '季度'\n",
    "\n",
    "    # 修改columns名稱，先計算總共有幾列\n",
    "    z = ['index']\n",
    "    for x in range(len(df2.columns)-1):\n",
    "        z.append(x)\n",
    "    df2.columns = z\n",
    "\n",
    "    # Transpose DataFrame\n",
    "    df3 = df2.copy()\n",
    "    df3.set_index('index',inplace=True)\n",
    "    df3 = df3.T\n",
    "    df3.insert(0,'代碼',id)\n",
    "\n",
    "    for index, row in df3.iterrows():\n",
    "        try:\n",
    "            cursor.execute('INSERT INTO financialStatements values(?,?,?,?,?,?,?,?,?,?,?,?,?,?,?,?,?,?,?,?,?,?,?,?,?,?,?,?,?,?,?,?,?,?,?,?,?,?,?,?,?,?,?,?,?,?,?,?,?,?,?,?,?,?,?,?,?,?,?,?,?,?,?,?,?,?,?,?,?,?,?,?,?,?,?,?,?,?,?,?,?,?,?,?,?,?,?,?,?,?,?,?,?,?,?,?,?)', row)\n",
    "            conn.commit()\n",
    "        except:\n",
    "            pass\n",
    "\n",
    "    \n",
    "    count+=1\n",
    "    print(f'已完成{count}次')\n",
    "    time.sleep(75)\n",
    "\n",
    "# =============================================================================================================\n",
    "# pd.read_sql(sql,conn)\n",
    "print('爬蟲完畢')"
   ]
  },
  {
   "cell_type": "code",
   "execution_count": null,
   "metadata": {},
   "outputs": [],
   "source": [
    "df3.columns = ['代碼', '季度', '營業毛利率', '營業利益率', '稅前淨利率', '稅後淨利率', '稅後淨利率(母公司)',\n",
    "       '每股稅前盈餘(元)', '每股稅後盈餘(元)', '每股淨值(元)', '股東權益報酬率(季累計)', '股東權益報酬率(年預估)',\n",
    "       '資產報酬率(季累計)', '資產報酬率(年預估)', '營收年成長率', '毛利年成長率', '營業利益年成長率', '稅前淨利年成長率',\n",
    "       '稅後淨利年成長率', '稅後淨利年成長率(母公司)', '每股稅後盈餘年成長率', '現金(%)', '應收帳款(%)', '存貨(%)',\n",
    "       '速動資產(%)', '流動資產(%)', '基金與投資(%)', '固定資產(%)', '無形資產(%)', '其他資產(%)',\n",
    "       '現金季成長率', '應收帳款季成長率', '存貨季成長率', '流動資產季成長率', '基金與投資季成長率', '固定資產季成長率',\n",
    "       '無形資產季成長率', '其他資產季成長率', '資產總額季成長率', '現金年成長率', '應收帳款年成長率', '存貨年成長率',\n",
    "       '流動資產年成長率', '基金與投資年成長率', '固定資產年成長率', '無形資產年成長率', '其他資產年成長率', '資產總額年成長率',\n",
    "       '應付帳款(%)', '流動負債(%)', '其他負債(%)', '負債總額(%)', '普通股股本(%)', '股東權益總額(%)',\n",
    "       '應付帳款季成長率', '流動負債季成長率', '其他負債季成長率', '負債總額季成長率', '普通股股本季成長率',\n",
    "       '股東權益總額季成長率', '應付帳款年成長率', '流動負債年成長率', '其他負債年成長率', '負債總額年成長率',\n",
    "       '普通股股本年成長率', '股東權益總額年成長率', '現金比', '速動比', '流動比', '利息保障倍數', '現金流量比(季累計)',\n",
    "       '現金流量比(年預估)', '營業成本率', '營業費用率', '應收帳款週轉率(次/年)', '應收款項收現日數(日)',\n",
    "       '應付帳款週轉率(次/年)', '應付款項付現日數(日)', '存貨週轉率(次/年)', '平均售貨日數(日)',\n",
    "       '固定資產週轉率(次/年)', '總資產週轉率(次/年)', '淨值週轉率(次/年)', '應收帳款佔營收比率(季累計)',\n",
    "       '應收帳款佔營收比率(年預估)', '存貨佔營收比率(季累計)', '存貨佔營收比率(年預估)', '每股營業現金流量(元)',\n",
    "       '每股投資現金流量(元)', '每股融資現金流量(元)', '每股淨現金流量(元)', '每股自由現金流量(元)', '負債對淨值比率',\n",
    "       '所得稅佔稅前淨利比率', '業外損益佔營收比率', '業外損益佔稅前淨利比率', '財報評分(100為滿分)']\n",
    "df3"
   ]
  }
 ],
 "metadata": {
  "kernelspec": {
   "display_name": "Python 3.10.7 64-bit (microsoft store)",
   "language": "python",
   "name": "python3"
  },
  "language_info": {
   "codemirror_mode": {
    "name": "ipython",
    "version": 3
   },
   "file_extension": ".py",
   "mimetype": "text/x-python",
   "name": "python",
   "nbconvert_exporter": "python",
   "pygments_lexer": "ipython3",
   "version": "3.10.9 (tags/v3.10.9:1dd9be6, Dec  6 2022, 20:01:21) [MSC v.1934 64 bit (AMD64)]"
  },
  "orig_nbformat": 4,
  "vscode": {
   "interpreter": {
    "hash": "0d17bd3c188470cc3cbfd93c90c2f8b3f5ab1a762ae997509e3112b6584543eb"
   }
  }
 },
 "nbformat": 4,
 "nbformat_minor": 2
}
