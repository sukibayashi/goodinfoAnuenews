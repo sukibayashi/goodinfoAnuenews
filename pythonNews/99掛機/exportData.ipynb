{
 "cells": [
  {
   "cell_type": "code",
   "execution_count": 1,
   "metadata": {},
   "outputs": [],
   "source": [
    "import sqlite3\n",
    "import pandas as pd\n",
    "\n",
    "# 連接到資料庫A ====================================================================\n",
    "conn = sqlite3.connect('./data/data.db')\n",
    "# cursor object\n",
    "cursor = conn.cursor()\n",
    "\n",
    "sql1 = '''select * from balance_sheet t'''\n",
    "sql2 = '''select * from cash_flows t'''\n",
    "sql3 = '''select * from income_sheet t'''\n",
    "sql4 = '''select * from income_sheet_cumulate t'''\n",
    "sql5 = '''select * from monthly_revenue t'''\n",
    "sql6 = '''select * from price t'''\n",
    "\n",
    "dfSql1 = pd.read_sql(sql1,conn)\n",
    "dfSql2 = pd.read_sql(sql2,conn)\n",
    "dfSql3 = pd.read_sql(sql3,conn)\n",
    "dfSql4 = pd.read_sql(sql4,conn)\n",
    "dfSql5 = pd.read_sql(sql5,conn)\n",
    "dfSql6 = pd.read_sql(sql6,conn)\n",
    "\n",
    "dfTable1 = pd.DataFrame(dfSql1)\n",
    "dfTable2 = pd.DataFrame(dfSql2)\n",
    "dfTable3 = pd.DataFrame(dfSql3)\n",
    "dfTable4 = pd.DataFrame(dfSql4)\n",
    "dfTable5 = pd.DataFrame(dfSql5)\n",
    "dfTable6 = pd.DataFrame(dfSql6)"
   ]
  },
  {
   "cell_type": "code",
   "execution_count": 4,
   "metadata": {},
   "outputs": [],
   "source": [
    "id = '2330'\n",
    "\n",
    "# balance_sheet\n",
    "dfTable1mask = dfTable1['stock_id'] == id\n",
    "dfTable1a = dfTable1[dfTable1mask]\n",
    "dfTable1a.to_csv(f\"csv/{id}balance_sheet.csv\", encoding=\"big5hkscs\",index=False)\n",
    "\n",
    "# cash_flows\n",
    "dfTable2mask = dfTable2['stock_id'] == id\n",
    "dfTable2a = dfTable2[dfTable2mask]\n",
    "dfTable2a.to_csv(f\"csv/{id}cash_flows.csv\", encoding=\"big5hkscs\",index=False)\n",
    "\n",
    "# income_sheet\n",
    "dfTable3mask = dfTable3['stock_id'] == id\n",
    "dfTable3a = dfTable3[dfTable3mask]\n",
    "dfTable3a.to_csv(f\"csv/{id}income_sheet.csv\", encoding=\"big5hkscs\",index=False)\n",
    "\n",
    "# income_sheet_cumulate\n",
    "dfTable4mask = dfTable4['stock_id'] == id\n",
    "dfTable4a = dfTable4[dfTable4mask]\n",
    "dfTable4a.to_csv(f\"csv/{id}income_sheet_cumulate.csv\", encoding=\"big5hkscs\",index=False)\n",
    "\n",
    "# monthly_revenue\n",
    "dfTable5mask = dfTable5['stock_id'] == id\n",
    "dfTable5a = dfTable5[dfTable5mask]\n",
    "dfTable5a.to_csv(f\"csv/{id}monthly_revenue.csv\", encoding=\"big5hkscs\",index=False)\n",
    "\n",
    "# price\n",
    "dfTable6mask = dfTable6['stock_id'] == id\n",
    "dfTable6a = dfTable6[dfTable6mask]\n",
    "dfTable6a.to_csv(f\"csv/{id}price.csv\", encoding=\"big5hkscs\",index=False)"
   ]
  },
  {
   "cell_type": "code",
   "execution_count": null,
   "metadata": {},
   "outputs": [],
   "source": [
    "conn.close()"
   ]
  }
 ],
 "metadata": {
  "kernelspec": {
   "display_name": "Python 3.10.7 64-bit (microsoft store)",
   "language": "python",
   "name": "python3"
  },
  "language_info": {
   "codemirror_mode": {
    "name": "ipython",
    "version": 3
   },
   "file_extension": ".py",
   "mimetype": "text/x-python",
   "name": "python",
   "nbconvert_exporter": "python",
   "pygments_lexer": "ipython3",
   "version": "3.10.7"
  },
  "orig_nbformat": 4,
  "vscode": {
   "interpreter": {
    "hash": "0d17bd3c188470cc3cbfd93c90c2f8b3f5ab1a762ae997509e3112b6584543eb"
   }
  }
 },
 "nbformat": 4,
 "nbformat_minor": 2
}
