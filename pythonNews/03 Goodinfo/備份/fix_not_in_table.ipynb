{
 "cells": [
  {
   "cell_type": "code",
   "execution_count": 2,
   "metadata": {},
   "outputs": [],
   "source": [
    "import pandas as pd\n",
    "import numpy as np\n",
    "import sqlite3\n",
    "\n",
    "def 連接資料庫(db):\n",
    "    global dfRevenue,dfFin,dfDividend,ids\n",
    "\n",
    "    # 連接到資料庫【月】 =================================================================\n",
    "    conn = sqlite3.connect(db)\n",
    "    cursor = conn.cursor()\n",
    "    sql = '''select * from revenue t'''\n",
    "    dfRevenue = pd.read_sql(sql,conn)\n",
    "    \n",
    "    # 連接到資料庫【上市上櫃】\n",
    "    sqlStock = '''select * from stock t'''\n",
    "    dfStock = pd.read_sql(sqlStock,conn)\n",
    "    ids = dfStock['code']\n",
    "    # ==================================================================================\n",
    "    # conn.close()\n",
    "    return dfRevenue, ids\n",
    "\n",
    "dfRevenue, ids = 連接資料庫('goodinfoRevenue.db')\n"
   ]
  },
  {
   "cell_type": "code",
   "execution_count": 22,
   "metadata": {},
   "outputs": [],
   "source": [
    "check2 = dfRevenue[dfRevenue['date'] == '2023/04']['code']"
   ]
  },
  {
   "cell_type": "code",
   "execution_count": 24,
   "metadata": {},
   "outputs": [
    {
     "name": "stdout",
     "output_type": "stream",
     "text": [
      "6594\n",
      "5820\n"
     ]
    }
   ],
   "source": [
    "ids = ids[~ids.isin(check2)]\n",
    "\n",
    "for id in ids:\n",
    "    print(id)"
   ]
  }
 ],
 "metadata": {
  "kernelspec": {
   "display_name": "base",
   "language": "python",
   "name": "python3"
  },
  "language_info": {
   "codemirror_mode": {
    "name": "ipython",
    "version": 3
   },
   "file_extension": ".py",
   "mimetype": "text/x-python",
   "name": "python",
   "nbconvert_exporter": "python",
   "pygments_lexer": "ipython3",
   "version": "3.9.13"
  },
  "orig_nbformat": 4
 },
 "nbformat": 4,
 "nbformat_minor": 2
}
