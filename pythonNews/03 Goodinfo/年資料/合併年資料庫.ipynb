{
 "cells": [
  {
   "cell_type": "code",
   "execution_count": 4,
   "metadata": {},
   "outputs": [
    {
     "name": "stdout",
     "output_type": "stream",
     "text": [
      "年股利已更新完成\n"
     ]
    }
   ],
   "source": [
    "import sqlite3\n",
    "import pandas as pd\n",
    "\n",
    "# 連接到資料庫A ====================================================================\n",
    "conn1 = sqlite3.connect('goodinfoRevenue(年)1.db')\n",
    "cursor1 = conn1.cursor()\n",
    "sql1 = '''select * from dividend t'''\n",
    "dfData1 = pd.read_sql(sql1,conn1)\n",
    "dfData1 = pd.DataFrame(dfData1)\n",
    "\n",
    "# 連接到資料庫B ====================================================================\n",
    "conn2 = sqlite3.connect('goodinfoRevenue(年)2.db')\n",
    "cursor2 = conn2.cursor()\n",
    "sql2 = '''select * from dividend t'''\n",
    "dfData2 = pd.read_sql(sql2,conn2)\n",
    "dfData2 = pd.DataFrame(dfData2)\n",
    "\n",
    "# 連接到資料庫C ====================================================================\n",
    "conn3 = sqlite3.connect('goodinfoRevenue(年)3.db')\n",
    "cursor3 = conn3.cursor()\n",
    "sql3 = '''select * from dividend t'''\n",
    "dfData3 = pd.read_sql(sql3,conn3)\n",
    "dfData3 = pd.DataFrame(dfData3)\n",
    "\n",
    "# 連接到資料庫D ====================================================================\n",
    "conn4 = sqlite3.connect('goodinfoRevenue(年)4.db')\n",
    "cursor4 = conn3.cursor()\n",
    "sql4 = '''select * from dividend t'''\n",
    "dfData4 = pd.read_sql(sql4,conn4)\n",
    "dfData4 = pd.DataFrame(dfData4)\n",
    "\n",
    "if conn1:\n",
    "    conn1.close()\n",
    "if conn2:\n",
    "    conn2.close()\n",
    "if conn3:\n",
    "    conn3.close()\n",
    "if conn4:\n",
    "    conn4.close()\n",
    "\n",
    "# 連接到資料庫 =====================================================================\n",
    "conn5 = sqlite3.connect('goodinfoRevenue.db')\n",
    "cursor5 = conn5.cursor()\n",
    "sqlStock = '''select * from dividend t'''\n",
    "dfStock = pd.read_sql(sqlStock,conn5)\n",
    "dfStock = pd.DataFrame(dfStock)\n",
    "\n",
    "# 合併資料庫A/B/C/D\n",
    "dfconcat = pd.concat([dfData1,dfData2,dfData3,dfData4])\n",
    "\n",
    "# 寫入資料庫\n",
    "for index,row in dfconcat.iterrows():\n",
    "    try:\n",
    "        cursor5.execute(\n",
    "        \"\"\"INSERT OR IGNORE INTO dividend \n",
    "        (代碼,股利發放年度,股利合計)\n",
    "        values(?,?,?)\"\"\",\n",
    "        (row['代碼'],\n",
    "        row['股利發放年度'],\n",
    "        row['股利合計'])\n",
    "        )\n",
    "        conn5.commit()\n",
    "    except:\n",
    "        pass\n",
    "\n",
    "print('年股利已更新完成')\n",
    "conn5.close()"
   ]
  }
 ],
 "metadata": {
  "kernelspec": {
   "display_name": "Python 3.10.7 64-bit (microsoft store)",
   "language": "python",
   "name": "python3"
  },
  "language_info": {
   "codemirror_mode": {
    "name": "ipython",
    "version": 3
   },
   "file_extension": ".py",
   "mimetype": "text/x-python",
   "name": "python",
   "nbconvert_exporter": "python",
   "pygments_lexer": "ipython3",
   "version": "3.10.7"
  },
  "orig_nbformat": 4,
  "vscode": {
   "interpreter": {
    "hash": "0d17bd3c188470cc3cbfd93c90c2f8b3f5ab1a762ae997509e3112b6584543eb"
   }
  }
 },
 "nbformat": 4,
 "nbformat_minor": 2
}
